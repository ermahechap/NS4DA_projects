{
 "cells": [
  {
   "cell_type": "code",
   "execution_count": 1,
   "id": "089b4ff3-8bfe-4383-947c-cfd43fd7661f",
   "metadata": {
    "tags": []
   },
   "outputs": [],
   "source": [
    "import networkx as nx\n",
    "import pandas as pd\n",
    "import numpy as np\n",
    "from scipy.sparse import csr_matrix\n",
    "import matplotlib.pyplot as plt\n",
    "import seaborn as sns\n",
    "from tqdm import tqdm\n",
    "import re\n",
    "import random"
   ]
  },
  {
   "cell_type": "code",
   "execution_count": 2,
   "id": "5bdc834b-3b75-4a9e-85bc-a3363e8eeafb",
   "metadata": {
    "tags": []
   },
   "outputs": [],
   "source": [
    "# Load data\n",
    "# Filmtrust\n",
    "# Build UI matrix\n",
    "users = []\n",
    "items = []\n",
    "scores = []\n",
    "with open('./filmtrust/ratings.txt') as f:\n",
    "#with open('./test_dataset/debug.txt') as f:\n",
    "    for l in f.readlines():\n",
    "        r = l.strip().split()\n",
    "        users.append(int(r[0]))\n",
    "        items.append(int(r[1]))\n",
    "        scores.append(float(r[2]))"
   ]
  },
  {
   "cell_type": "code",
   "execution_count": 3,
   "id": "310efed6",
   "metadata": {},
   "outputs": [
    {
     "data": {
      "text/plain": [
       "array([0.5, 1. , 1.5, 2. , 2.5, 3. , 3.5, 4. ])"
      ]
     },
     "execution_count": 3,
     "metadata": {},
     "output_type": "execute_result"
    }
   ],
   "source": [
    "np.unique(scores)"
   ]
  },
  {
   "cell_type": "code",
   "execution_count": 4,
   "id": "a20e54ea-8ab1-43ee-b07f-c16a9e5477cf",
   "metadata": {
    "tags": []
   },
   "outputs": [],
   "source": [
    "UI_matrix = csr_matrix((scores, (users, items)))"
   ]
  },
  {
   "cell_type": "markdown",
   "id": "e48951ec-a37e-479b-8ea6-c6a65caf1f93",
   "metadata": {
    "tags": []
   },
   "source": [
    "## Graph Building"
   ]
  },
  {
   "cell_type": "code",
   "execution_count": 5,
   "id": "c209f2a8-e761-490c-a886-102d2e87dbd0",
   "metadata": {
    "tags": []
   },
   "outputs": [
    {
     "name": "stdout",
     "output_type": "stream",
     "text": [
      "user range [1-1508]\n",
      "item range [1-2071]\n"
     ]
    }
   ],
   "source": [
    "edges = []\n",
    "user_nodes, item_nodes = [], [] \n",
    "max_user, max_item = 0, 0\n",
    "for u, i, s in zip(users, items, scores):\n",
    "    edges.append((f\"U-{u}\", f\"I-{i}\", {'s': s}))\n",
    "    user_nodes.append(f\"U-{u}\")\n",
    "    item_nodes.append(f\"I-{i}\")\n",
    "    max_user = max(u, max_user)\n",
    "    max_item = max(i, max_item)\n",
    "\n",
    "user_nodes = np.unique(user_nodes)\n",
    "item_nodes = np.unique(item_nodes)\n",
    "print(f\"user range [1-{max_user}]\")\n",
    "print(f\"item range [1-{max_item}]\")"
   ]
  },
  {
   "cell_type": "code",
   "execution_count": 6,
   "id": "e8f752f4-8c6c-4e02-8e19-5a2666f3cef7",
   "metadata": {
    "tags": []
   },
   "outputs": [],
   "source": [
    "G_source = nx.Graph(edges)"
   ]
  },
  {
   "cell_type": "code",
   "execution_count": 7,
   "id": "01823138-5d97-4f48-b7a8-20f6c53371f1",
   "metadata": {
    "tags": []
   },
   "outputs": [
    {
     "name": "stdout",
     "output_type": "stream",
     "text": [
      "35494\n"
     ]
    }
   ],
   "source": [
    "print(len(G_source.edges))"
   ]
  },
  {
   "cell_type": "markdown",
   "id": "d84328ae-c0c9-4a0b-af41-671d4a5c6183",
   "metadata": {},
   "source": [
    "## Algorithm Implementation"
   ]
  },
  {
   "cell_type": "markdown",
   "id": "a8247499-7f3f-49c2-87bc-addde5fcb021",
   "metadata": {},
   "source": [
    "### Meta-path building"
   ]
  },
  {
   "cell_type": "code",
   "execution_count": 8,
   "id": "8e19806c-fbcf-4399-b490-650d6a82c54a",
   "metadata": {
    "tags": []
   },
   "outputs": [],
   "source": [
    "def meta_path_edges(G, rate_range):\n",
    "    edge_dict = dict()\n",
    "    for i in tqdm(item_nodes):\n",
    "        adjacent_users = [u[0] for u in G.adj[i].items() if u[1]['s'] in rate_range]\n",
    "        adjacent_users = sorted(adjacent_users, reverse=True)\n",
    "        for j in range(len(adjacent_users)):\n",
    "            u1 = adjacent_users[j]\n",
    "            for k in range(j + 1, len(adjacent_users)):\n",
    "                u2 = adjacent_users[k]\n",
    "                if not edge_dict.get((u1, u2)): edge_dict[(u1, u2)] = 1\n",
    "                else: edge_dict[(u1, u2)] += 1\n",
    "    return edge_dict\n",
    "\n",
    "def merge_metapaths(*args):\n",
    "    P_edge_dict = args[0].copy()\n",
    "    for edge_dict in args[1:]:\n",
    "        for e in edge_dict:\n",
    "            if P_edge_dict.get(e): P_edge_dict[e] += edge_dict[e]\n",
    "            else: P_edge_dict[e] = edge_dict[e]\n",
    "    return P_edge_dict\n",
    "\n",
    "def normalize_edge_dict(edge_dict, mode='minmax', range_=[0, 1]):\n",
    "    if mode == 'minmax':\n",
    "        min_, max_ = np.min(list(edge_dict.values())), np.max(list(edge_dict.values()))\n",
    "        for e in edge_dict:\n",
    "            edge_dict[e] = range_[0] + (((edge_dict[e] - min_) * (range_[1] - range_[0])) / (max_ - min_))\n",
    "            # edge_dict[e] = 2 * ((edge_dict[e] - min_) / (max_ - min_)) - 1\n",
    "    else:\n",
    "        raise NotImplementedError\n",
    "    return edge_dict"
   ]
  },
  {
   "cell_type": "markdown",
   "id": "f8c3c502-e45d-4faf-be5c-1b7065e8f1b4",
   "metadata": {},
   "source": [
    "Create Metapath Networks (it only return edges)"
   ]
  },
  {
   "cell_type": "code",
   "execution_count": 9,
   "id": "44189976-6f90-4e36-bfac-d24c8f8f1c74",
   "metadata": {
    "tags": []
   },
   "outputs": [
    {
     "name": "stderr",
     "output_type": "stream",
     "text": [
      "100%|██████████| 2071/2071 [00:00<00:00, 32746.01it/s]\n",
      "100%|██████████| 2071/2071 [00:00<00:00, 3125.51it/s]\n",
      "100%|██████████| 2071/2071 [00:00<00:00, 2758.16it/s]\n"
     ]
    }
   ],
   "source": [
    "# 0.5, 1. , 1.5, 2. , 2.5, 3. , 3.5, 4. \n",
    "\n",
    "P1_edge_dict = meta_path_edges(G_source, [0.5, 1.0, 1.5])\n",
    "P2_edge_dict = meta_path_edges(G_source, [2.0,2.5, 3.0])\n",
    "P3_edge_dict = meta_path_edges(G_source, [3.5, 4.0])"
   ]
  },
  {
   "cell_type": "markdown",
   "id": "fc37cacb-eb22-45b9-9dac-cdeeb10b6d17",
   "metadata": {},
   "source": [
    "Add metapaths to build the U-U matrix (it actually creates de U-U edgelist)"
   ]
  },
  {
   "cell_type": "code",
   "execution_count": 10,
   "id": "6d9b1378",
   "metadata": {},
   "outputs": [],
   "source": [
    "P_edge_dict = merge_metapaths(P1_edge_dict, P2_edge_dict, P3_edge_dict) # Join metapaths for U-U matrix"
   ]
  },
  {
   "cell_type": "code",
   "execution_count": 11,
   "id": "f5ca2511",
   "metadata": {},
   "outputs": [
    {
     "data": {
      "text/plain": [
       "<Axes: ylabel='Count'>"
      ]
     },
     "execution_count": 11,
     "metadata": {},
     "output_type": "execute_result"
    },
    {
     "data": {
      "image/png": "[encoded data removed]",
      "text/plain": [
       "<Figure size 640x480 with 1 Axes>"
      ]
     },
     "metadata": {},
     "output_type": "display_data"
    }
   ],
   "source": [
    "P_edge_weights = list(P_edge_dict.values())\n",
    "sns.histplot(P_edge_weights, bins=30)"
   ]
  },
  {
   "attachments": {},
   "cell_type": "markdown",
   "id": "6e60d732",
   "metadata": {},
   "source": [
    "Most of the edge weights in the U-U matrix leans towards zero. The users that share items with similar ratings usually do it in a few movies."
   ]
  },
  {
   "cell_type": "code",
   "execution_count": 12,
   "id": "9462c34e-2471-4e40-9422-c512b6da81b0",
   "metadata": {
    "tags": []
   },
   "outputs": [],
   "source": [
    "P_edge_dict_norm = normalize_edge_dict(P_edge_dict.copy(), range_=[-1, 1]) # Normalize(minmax)\n",
    "S_main = nx.Graph([(k[0], k[1], {'s': v}) for k, v, in P_edge_dict_norm.items()]) # Buld S_main graph"
   ]
  },
  {
   "cell_type": "code",
   "execution_count": 13,
   "id": "b62e8f6c-b1bd-4262-b582-fdc36827b2a5",
   "metadata": {
    "tags": []
   },
   "outputs": [
    {
     "name": "stdout",
     "output_type": "stream",
     "text": [
      "User-User Network Description\n",
      "Nodes: 1498 Edges: 783458\n"
     ]
    }
   ],
   "source": [
    "print(\"User-User Network Description\")\n",
    "print(\"Nodes:\", S_main.number_of_nodes(), \"Edges:\", S_main.number_of_edges())"
   ]
  },
  {
   "cell_type": "code",
   "execution_count": 14,
   "id": "83cce1d3-015e-456e-abf9-10ff6f6f3b5b",
   "metadata": {
    "tags": []
   },
   "outputs": [],
   "source": [
    "def draw_G(G):\n",
    "    pos = nx.spring_layout(G, seed=7)\n",
    "    \n",
    "    nx.draw(G, pos, with_labels=True)\n",
    "    edge_labels = nx.get_edge_attributes(G, 's')\n",
    "    nx.draw_networkx_edge_labels(G, pos, edge_labels=edge_labels)\n",
    "\n",
    "#plt.figure(figsize=(2,2))\n",
    "#draw_G(S_main)\n",
    "#nx.draw(S_main)"
   ]
  },
  {
   "attachments": {},
   "cell_type": "markdown",
   "id": "83c4c533",
   "metadata": {},
   "source": [
    "Scaling this poses a set of issues regarding the link prediction technique proposed by the authors of the paper. Using WAA (Weighted Adamic-Adar) for link prediction, and taking into account that most of our edges are negative means that we won't be able to calculate the weight due to the logarithm used."
   ]
  },
  {
   "cell_type": "code",
   "execution_count": 15,
   "id": "731e21bf",
   "metadata": {},
   "outputs": [
    {
     "data": {
      "text/plain": [
       "<Axes: ylabel='Count'>"
      ]
     },
     "execution_count": 15,
     "metadata": {},
     "output_type": "execute_result"
    },
    {
     "data": {
      "image/png": "[encoded data removed]",
      "text/plain": [
       "<Figure size 640x480 with 1 Axes>"
      ]
     },
     "metadata": {},
     "output_type": "display_data"
    }
   ],
   "source": [
    "uu_edges = [(s, t, v['s'])for s, t, v in S_main.edges(data=True)]\n",
    "uu_edge_weights = [i[2] for i in uu_edges]\n",
    "sns.histplot(uu_edge_weights, bins=30)"
   ]
  },
  {
   "attachments": {},
   "cell_type": "markdown",
   "id": "72567c88-71bb-434b-b16c-22ba713a56b0",
   "metadata": {},
   "source": [
    "### Link Prediction on U-U\n",
    "Here we use the Weighted Adamic Adar (WAA) formula provided by the authors\n",
    "\n",
    "$$score(u,v) = \\sum_{z\\in\\Gamma(u)\\cap\\Gamma(v)}\\frac{W(u,z) + W(v,z)}{2log(\\sum_{z'\\in\\Gamma(z)}W(z,z'))}$$\n",
    "\n",
    "* $u, v$: Users\n",
    "* $\\Gamma(u)$: Neighbors of $u$ in the network\n",
    "* $W(u,v)$: Similarity between u and v as the weights of the link network\n",
    "* $\\Gamma(u)\\cap\\Gamma(v)$: Set of common neighbors of u and v"
   ]
  },
  {
   "cell_type": "code",
   "execution_count": 16,
   "id": "892e42dd-12a9-46f7-a82f-c0198af5e50b",
   "metadata": {
    "tags": []
   },
   "outputs": [
    {
     "name": "stdout",
     "output_type": "stream",
     "text": [
      "0\n",
      "-1.0\n"
     ]
    }
   ],
   "source": [
    "# Define lambda function to get weight from any graph\n",
    "W = lambda G, u, v: G.get_edge_data(u, v, {'s': 0})['s']\n",
    "print(W(S_main, 'U-1', 'U-2'))\n",
    "print(W(S_main, 'U-1', 'U-4'))\n",
    "\n",
    "# Use nx.common_neighbors(G, u, v) for the set of common neighbors between u and v\n",
    "# Use nx.neighbors(G, u) or G.neighbors(u) for the set of neighbors of u"
   ]
  },
  {
   "cell_type": "code",
   "execution_count": 17,
   "id": "34f93281-ca39-44ac-89c2-91d5cfb64c26",
   "metadata": {
    "tags": []
   },
   "outputs": [
    {
     "name": "stderr",
     "output_type": "stream",
     "text": [
      "/tmp/ipykernel_47224/1453345246.py:5: RuntimeWarning: invalid value encountered in log\n",
      "  sub_sum = (W(G, u, z) + W(G, v, z)) / (2*np.log(np.sum([W(G, z, zz) for zz in nx.neighbors(G, z)])))\n"
     ]
    },
    {
     "data": {
      "text/plain": [
       "0"
      ]
     },
     "execution_count": 17,
     "metadata": {},
     "output_type": "execute_result"
    }
   ],
   "source": [
    "# Weighted adamic-adar\n",
    "def weighted_adamic_adar(G, u, v):\n",
    "    sum_ = 0\n",
    "    for z in nx.common_neighbors(G, u, v):\n",
    "        sub_sum = (W(G, u, z) + W(G, v, z)) / (2*np.log(np.sum([W(G, z, zz) for zz in nx.neighbors(G, z)])))\n",
    "        if np.isnan(sub_sum): sum_ += 0\n",
    "        else: sum_ += sub_sum\n",
    "    return sum_\n",
    "\n",
    "# Testing\n",
    "weighted_adamic_adar(S_main, 'U-1', 'U-3')"
   ]
  },
  {
   "attachments": {},
   "cell_type": "markdown",
   "id": "fd79a21d-ee4b-4201-9bfd-0db74d8b9420",
   "metadata": {},
   "source": [
    "Note that the authors didn't provided an explanation on what happens when the logarithm is negative or zero. In that case we asume that the same thing happens as in the adamic addar index when the nodes have no common neighbors"
   ]
  },
  {
   "cell_type": "code",
   "execution_count": 18,
   "id": "3f621683-9511-485a-a04d-c4e47966cf33",
   "metadata": {
    "collapsed": true,
    "jupyter": {
     "outputs_hidden": true
    },
    "tags": []
   },
   "outputs": [
    {
     "name": "stderr",
     "output_type": "stream",
     "text": [
      "  0%|          | 0/1498 [00:00<?, ?it/s]/tmp/ipykernel_47224/1453345246.py:5: RuntimeWarning: invalid value encountered in log\n",
      "  sub_sum = (W(G, u, z) + W(G, v, z)) / (2*np.log(np.sum([W(G, z, zz) for zz in nx.neighbors(G, z)])))\n",
      "100%|██████████| 1497/1497 [00:37<00:00, 40.28it/s]\n",
      "100%|██████████| 1496/1496 [00:30<00:00, 49.52it/s]\n",
      "100%|██████████| 1495/1495 [00:49<00:00, 30.09it/s]\n",
      " 15%|█▌        | 225/1494 [00:06<00:34, 37.00it/s]]\n",
      "  0%|          | 3/1498 [02:03<17:02:47, 41.05s/it]\n"
     ]
    },
    {
     "ename": "KeyboardInterrupt",
     "evalue": "",
     "output_type": "error",
     "traceback": [
      "\u001b[0;31m---------------------------------------------------------------------------\u001b[0m",
      "\u001b[0;31mKeyboardInterrupt\u001b[0m                         Traceback (most recent call last)",
      "Cell \u001b[0;32mIn[18], line 7\u001b[0m\n\u001b[1;32m      5\u001b[0m u, v \u001b[39m=\u001b[39m S_users[i], S_users[j]\n\u001b[1;32m      6\u001b[0m \u001b[39mif\u001b[39;00m (W(S_main, u, v) \u001b[39mis\u001b[39;00m \u001b[39mNone\u001b[39;00m \u001b[39mor\u001b[39;00m W(S_main, u, v) \u001b[39m==\u001b[39m \u001b[39m0.0\u001b[39m) \u001b[39mand\u001b[39;00m u \u001b[39m!=\u001b[39m v:\n\u001b[0;32m----> 7\u001b[0m     waa \u001b[39m=\u001b[39m weighted_adamic_adar(S_main, u, v)\n\u001b[1;32m      8\u001b[0m     \u001b[39mif\u001b[39;00m waa \u001b[39m==\u001b[39m \u001b[39m0\u001b[39m: \u001b[39mcontinue\u001b[39;00m\n\u001b[1;32m      9\u001b[0m     S_e\u001b[39m.\u001b[39madd_edge(u, v, s\u001b[39m=\u001b[39mwaa)\n",
      "Cell \u001b[0;32mIn[17], line 5\u001b[0m, in \u001b[0;36mweighted_adamic_adar\u001b[0;34m(G, u, v)\u001b[0m\n\u001b[1;32m      3\u001b[0m sum_ \u001b[39m=\u001b[39m \u001b[39m0\u001b[39m\n\u001b[1;32m      4\u001b[0m \u001b[39mfor\u001b[39;00m z \u001b[39min\u001b[39;00m nx\u001b[39m.\u001b[39mcommon_neighbors(G, u, v):\n\u001b[0;32m----> 5\u001b[0m     sub_sum \u001b[39m=\u001b[39m (W(G, u, z) \u001b[39m+\u001b[39m W(G, v, z)) \u001b[39m/\u001b[39m (\u001b[39m2\u001b[39m\u001b[39m*\u001b[39mnp\u001b[39m.\u001b[39mlog(np\u001b[39m.\u001b[39msum([W(G, z, zz) \u001b[39mfor\u001b[39;00m zz \u001b[39min\u001b[39;00m nx\u001b[39m.\u001b[39mneighbors(G, z)])))\n\u001b[1;32m      6\u001b[0m     \u001b[39mif\u001b[39;00m np\u001b[39m.\u001b[39misnan(sub_sum): sum_ \u001b[39m+\u001b[39m\u001b[39m=\u001b[39m \u001b[39m0\u001b[39m\n\u001b[1;32m      7\u001b[0m     \u001b[39melse\u001b[39;00m: sum_ \u001b[39m+\u001b[39m\u001b[39m=\u001b[39m sub_sum\n",
      "Cell \u001b[0;32mIn[17], line 5\u001b[0m, in \u001b[0;36m<listcomp>\u001b[0;34m(.0)\u001b[0m\n\u001b[1;32m      3\u001b[0m sum_ \u001b[39m=\u001b[39m \u001b[39m0\u001b[39m\n\u001b[1;32m      4\u001b[0m \u001b[39mfor\u001b[39;00m z \u001b[39min\u001b[39;00m nx\u001b[39m.\u001b[39mcommon_neighbors(G, u, v):\n\u001b[0;32m----> 5\u001b[0m     sub_sum \u001b[39m=\u001b[39m (W(G, u, z) \u001b[39m+\u001b[39m W(G, v, z)) \u001b[39m/\u001b[39m (\u001b[39m2\u001b[39m\u001b[39m*\u001b[39mnp\u001b[39m.\u001b[39mlog(np\u001b[39m.\u001b[39msum([W(G, z, zz) \u001b[39mfor\u001b[39;00m zz \u001b[39min\u001b[39;00m nx\u001b[39m.\u001b[39mneighbors(G, z)])))\n\u001b[1;32m      6\u001b[0m     \u001b[39mif\u001b[39;00m np\u001b[39m.\u001b[39misnan(sub_sum): sum_ \u001b[39m+\u001b[39m\u001b[39m=\u001b[39m \u001b[39m0\u001b[39m\n\u001b[1;32m      7\u001b[0m     \u001b[39melse\u001b[39;00m: sum_ \u001b[39m+\u001b[39m\u001b[39m=\u001b[39m sub_sum\n",
      "\u001b[0;31mKeyboardInterrupt\u001b[0m: "
     ]
    }
   ],
   "source": [
    "S_e = nx.Graph()\n",
    "S_users = list(S_main.nodes)\n",
    "for i in tqdm(range(len(S_users)), total=len(S_users)):\n",
    "    for j in tqdm(range(i + 1, len(S_users))):\n",
    "        u, v = S_users[i], S_users[j]\n",
    "        if (W(S_main, u, v) is None or W(S_main, u, v) == 0.0) and u != v:\n",
    "            waa = weighted_adamic_adar(S_main, u, v)\n",
    "            if waa == 0: continue\n",
    "            S_e.add_edge(u, v, s=waa)"
   ]
  },
  {
   "cell_type": "code",
   "execution_count": null,
   "id": "f8d44d86-23b8-4770-93d6-9735482d4004",
   "metadata": {},
   "outputs": [],
   "source": [
    "# Update S_e with original edges\n",
    "S_e.add_weighted_edges_from([(*x[0], x[1]) for x in nx.get_edge_attributes(S_main, 's').items()], 's')"
   ]
  },
  {
   "attachments": {},
   "cell_type": "markdown",
   "id": "4f4a5380",
   "metadata": {},
   "source": [
    "We stopped the execution because this method is quite slow and has the limitations mentioned before. Our aim in this case is trying to use this U-U matrix we already generated, but change the way we generate new links between users using methods based on node2vec. Here is an example: https://keras.io/examples/graph/node2vec_movielens/ . \n",
    "\n",
    "In said example they build an Item-Item matrix using the mutual information given by the user's ratings, and use node2vec to generate embeddings of the movies (items) and extract similar movies to a given movie.\n",
    "\n",
    "In our case, we want to use the U-U matrix we have already built to generate user embeddings and use cosine distance to determine if two users should be linked.\n",
    "\n",
    "> As a caveat, we are aware that the node2vec approach does not work well with unseen data (i.e. a new node is added to the network), but our aim is not to fix cold-start related problems, but to explore alternatives to what the authors proposed usin WAA"
   ]
  },
  {
   "attachments": {},
   "cell_type": "markdown",
   "id": "ad5f7c25",
   "metadata": {},
   "source": [
    " ### Node2Vec Approach"
   ]
  },
  {
   "cell_type": "code",
   "execution_count": 19,
   "id": "24ec2350",
   "metadata": {},
   "outputs": [],
   "source": [
    "# Recompute the U-U graph\n",
    "P_edge_dict_norm = normalize_edge_dict(P_edge_dict.copy(), range_=[0.0001, 1]) # Normalize(minmax [0, 1])\n",
    "S_main = nx.Graph([(int(k[0][2:]), int(k[1][2:]), {'s': v}) for k, v, in P_edge_dict_norm.items()]) # Buld S_main graph"
   ]
  },
  {
   "cell_type": "code",
   "execution_count": 20,
   "id": "2cf41c81",
   "metadata": {},
   "outputs": [],
   "source": [
    "vocabulary = list(S_main.nodes())\n",
    "vocabulary_lookup = {token: idx for idx, token in enumerate(vocabulary)}"
   ]
  },
  {
   "attachments": {},
   "cell_type": "markdown",
   "id": "ef43ee5d",
   "metadata": {},
   "source": [
    "Note that we removed the 'U-' suffix from the users becase S_main is the U-U network and we no longer need to differentiate between users and items. On the other hand, we changed the scaling to keep the weights between 0 and 1."
   ]
  },
  {
   "attachments": {},
   "cell_type": "markdown",
   "id": "536e7103",
   "metadata": {},
   "source": [
    "#### Random Walk\n",
    "We perform random walks in order to randomly pick a sample of nodes that will work as the neighborhood of the source node in order to train the node2vec algorithm. The variant we implemented is called **biased random walk**, which balances between taking node samples in depth (dfs) or local neighbours (bfs). This is controlled by the following parameters:\n",
    "* Return parameter $p$: controls how likely it is to immediately revisit a node we just visited. A high value encourages exploration.\n",
    "* In-Out parameter $q$: controls how likely it is to stay in the neighborhood of a node. A high value biases the random walk towards local nodes.\n",
    "> node2vec and **biased random walk** explained: https://memgraph.com/blog/how-node2vec-works"
   ]
  },
  {
   "cell_type": "code",
   "execution_count": 21,
   "id": "a2faebc0",
   "metadata": {},
   "outputs": [
    {
     "name": "stderr",
     "output_type": "stream",
     "text": [
      "2023-04-19 00:54:42.077179: I tensorflow/tsl/cuda/cudart_stub.cc:28] Could not find cuda drivers on your machine, GPU will not be used.\n",
      "2023-04-19 00:54:42.103647: I tensorflow/tsl/cuda/cudart_stub.cc:28] Could not find cuda drivers on your machine, GPU will not be used.\n",
      "2023-04-19 00:54:42.104180: I tensorflow/core/platform/cpu_feature_guard.cc:182] This TensorFlow binary is optimized to use available CPU instructions in performance-critical operations.\n",
      "To enable the following instructions: AVX2 FMA, in other operations, rebuild TensorFlow with the appropriate compiler flags.\n",
      "2023-04-19 00:54:42.771723: W tensorflow/compiler/tf2tensorrt/utils/py_utils.cc:38] TF-TRT Warning: Could not find TensorRT\n"
     ]
    }
   ],
   "source": [
    "import tensorflow as tf\n",
    "from tensorflow import keras\n",
    "from tensorflow.keras import layers\n",
    "from collections import defaultdict"
   ]
  },
  {
   "cell_type": "code",
   "execution_count": 49,
   "id": "3af272be",
   "metadata": {},
   "outputs": [
    {
     "name": "stdout",
     "output_type": "stream",
     "text": [
      "\n",
      "Tensorflow version = 2.12.0\n",
      "\n",
      "\n",
      "[]\n",
      "\n"
     ]
    }
   ],
   "source": [
    "import tensorflow as tf\n",
    "\n",
    "print(f'\\nTensorflow version = {tf.__version__}\\n')\n",
    "print(f'\\n{tf.config.list_physical_devices(\"GPU\")}\\n')"
   ]
  },
  {
   "cell_type": "code",
   "execution_count": 50,
   "id": "bb1bba31",
   "metadata": {},
   "outputs": [
    {
     "data": {
      "text/plain": [
       "OrderedDict([('cpu_compiler', '/dt9/usr/bin/gcc'),\n",
       "             ('cuda_compute_capabilities',\n",
       "              ['sm_35', 'sm_50', 'sm_60', 'sm_70', 'sm_75', 'compute_80']),\n",
       "             ('cuda_version', '11.8'),\n",
       "             ('cudnn_version', '8'),\n",
       "             ('is_cuda_build', True),\n",
       "             ('is_rocm_build', False),\n",
       "             ('is_tensorrt_build', True)])"
      ]
     },
     "execution_count": 50,
     "metadata": {},
     "output_type": "execute_result"
    }
   ],
   "source": [
    "tf.sysconfig.get_build_info() "
   ]
  },
  {
   "cell_type": "code",
   "execution_count": 29,
   "id": "258915f5",
   "metadata": {},
   "outputs": [],
   "source": [
    "def next_step(G, previous, current, p, q):\n",
    "    neighbors = list(G.neighbors(current))\n",
    "    \n",
    "    # Dinamically define the transition probabilities given the current node and its in/out edge weights\n",
    "    weights = []\n",
    "    for neighbor in neighbors:\n",
    "        if neighbor == previous:\n",
    "            weights.append(G[current][neighbor]['s'] / p) # Return probability\n",
    "        elif G.has_edge(neighbor, previous):\n",
    "            weights.append(G[current][neighbor]['s']) # Probability of visiting local node\n",
    "        else:\n",
    "            weights.append(G[current][neighbor]['s'] / q) # Forward probability\n",
    "    # Noramlize weights\n",
    "    weights_sum = sum(weights)\n",
    "    probabilities = [w / weights_sum for w in weights]\n",
    "    next_node = np.random.choice(neighbors, size=1, p=probabilities)[0]\n",
    "    return next_node\n",
    "\n",
    "def random_walk(G, num_walks, num_steps, p, q):\n",
    "    walks = []\n",
    "    nodes = list(G.nodes())\n",
    "    for walk_iteration in range(num_walks):\n",
    "        random.shuffle(nodes)\n",
    "        for node in tqdm(\n",
    "            nodes,\n",
    "            position=0,\n",
    "            leave=True,\n",
    "            desc=f\"Random walks iteration{walk_iteration + 1} of {num_walks}\"\n",
    "        ):\n",
    "            walk = [node]\n",
    "            while len(walk) < num_steps:\n",
    "                current = walk[-1]\n",
    "                previous = walk[-2] if len(walk) > 1 else None\n",
    "                next = next_step(G, previous, current, p, q)\n",
    "                walk.append(next)\n",
    "            walk = [vocabulary_lookup[token] for token in walk]\n",
    "            walks.append(walk)\n",
    "    return walks"
   ]
  },
  {
   "cell_type": "code",
   "execution_count": 40,
   "id": "372d975a",
   "metadata": {},
   "outputs": [
    {
     "name": "stderr",
     "output_type": "stream",
     "text": [
      "Random walks iteration1 of 10: 100%|██████████| 1498/1498 [00:21<00:00, 69.02it/s]\n",
      "Random walks iteration2 of 10: 100%|██████████| 1498/1498 [00:23<00:00, 63.04it/s]\n",
      "Random walks iteration3 of 10: 100%|██████████| 1498/1498 [00:27<00:00, 53.65it/s]\n",
      "Random walks iteration4 of 10: 100%|██████████| 1498/1498 [00:27<00:00, 54.28it/s]\n",
      "Random walks iteration5 of 10: 100%|██████████| 1498/1498 [00:27<00:00, 54.32it/s]\n",
      "Random walks iteration6 of 10: 100%|██████████| 1498/1498 [00:27<00:00, 53.73it/s]\n",
      "Random walks iteration7 of 10: 100%|██████████| 1498/1498 [00:28<00:00, 52.05it/s]\n",
      "Random walks iteration8 of 10: 100%|██████████| 1498/1498 [00:27<00:00, 54.09it/s]\n",
      "Random walks iteration9 of 10: 100%|██████████| 1498/1498 [00:27<00:00, 54.97it/s]\n",
      "Random walks iteration10 of 10: 100%|██████████| 1498/1498 [00:27<00:00, 55.42it/s]\n"
     ]
    }
   ],
   "source": [
    "p=1\n",
    "q=1\n",
    "num_walks = 10\n",
    "num_steps = 10\n",
    "walks = random_walk(S_main, num_walks, num_steps, p, q)"
   ]
  },
  {
   "attachments": {},
   "cell_type": "markdown",
   "id": "ab2ada04",
   "metadata": {},
   "source": [
    "#### Generate examples\n",
    "To train the skipgram model we use the walks to generate positive and negative training examples.\n",
    "* **target:** An user in the walk sequence.\n",
    "* **context:** Another user in the walk sequence.\n",
    "* **weight:** How many times these two users occurred in walk sequences.\n",
    "* **label:** 1 if both users are samples from walk sequences, otherwise 0"
   ]
  },
  {
   "cell_type": "code",
   "execution_count": 41,
   "id": "a3962ddb",
   "metadata": {},
   "outputs": [
    {
     "name": "stderr",
     "output_type": "stream",
     "text": [
      "Generating postive and negative examples: 100%|██████████| 14980/14980 [00:13<00:00, 1095.50it/s]\n"
     ]
    }
   ],
   "source": [
    "def generate_examples(sequences, window_size, num_negative_samples, vocabulary_size):\n",
    "    example_weights = defaultdict(int)\n",
    "    # Iterate over all sequences (walks).\n",
    "    for sequence in tqdm(\n",
    "        sequences,\n",
    "        position=0,\n",
    "        leave=True,\n",
    "        desc=f\"Generating postive and negative examples\",\n",
    "    ):\n",
    "        # Generate positive and negative skip-gram pairs for a sequence (walk).\n",
    "        pairs, labels = keras.preprocessing.sequence.skipgrams(\n",
    "            sequence,\n",
    "            vocabulary_size=vocabulary_size,\n",
    "            window_size=window_size,\n",
    "            negative_samples=num_negative_samples,\n",
    "        )\n",
    "        for idx in range(len(pairs)):\n",
    "            pair = pairs[idx]\n",
    "            label = labels[idx]\n",
    "            target, context = min(pair[0], pair[1]), max(pair[0], pair[1])\n",
    "            if target == context:\n",
    "                continue\n",
    "            entry = (target, context, label)\n",
    "            example_weights[entry] += 1\n",
    "\n",
    "    targets, contexts, labels, weights = [], [], [], []\n",
    "    for entry in example_weights:\n",
    "        weight = example_weights[entry]\n",
    "        target, context, label = entry\n",
    "        targets.append(target)\n",
    "        contexts.append(context)\n",
    "        labels.append(label)\n",
    "        weights.append(weight)\n",
    "\n",
    "    return np.array(targets), np.array(contexts), np.array(labels), np.array(weights)\n",
    "\n",
    "\n",
    "num_negative_samples = 4\n",
    "targets, contexts, labels, weights = generate_examples(\n",
    "    sequences=walks,\n",
    "    window_size=num_steps,\n",
    "    num_negative_samples=num_negative_samples,\n",
    "    vocabulary_size=len(vocabulary),\n",
    ")\n"
   ]
  },
  {
   "cell_type": "code",
   "execution_count": 42,
   "id": "c980c8d1",
   "metadata": {},
   "outputs": [
    {
     "name": "stdout",
     "output_type": "stream",
     "text": [
      "Targets shape: (1397880,)\n",
      "Contexts shape: (1397880,)\n",
      "Labels shape: (1397880,)\n",
      "Weights shape: (1397880,)\n"
     ]
    }
   ],
   "source": [
    "print(f\"Targets shape: {targets.shape}\")\n",
    "print(f\"Contexts shape: {contexts.shape}\")\n",
    "print(f\"Labels shape: {labels.shape}\")\n",
    "print(f\"Weights shape: {weights.shape}\")"
   ]
  },
  {
   "cell_type": "code",
   "execution_count": 43,
   "id": "6d270116",
   "metadata": {},
   "outputs": [],
   "source": [
    "batch_size = 1024\n",
    "def create_dataset(targets, contexts, labels, weights, batch_size):\n",
    "    inputs = {\n",
    "        \"target\": targets,\n",
    "        \"context\": contexts,\n",
    "    }\n",
    "    dataset = tf.data.Dataset.from_tensor_slices((inputs, labels, weights))\n",
    "    dataset = dataset.shuffle(buffer_size=batch_size * 2)\n",
    "    dataset = dataset.batch(batch_size, drop_remainder=True)\n",
    "    dataset = dataset.prefetch(tf.data.AUTOTUNE)\n",
    "    return dataset\n",
    "\n",
    "\n",
    "dataset = create_dataset(\n",
    "    targets=targets,\n",
    "    contexts=contexts,\n",
    "    labels=labels,\n",
    "    weights=weights,\n",
    "    batch_size=batch_size,\n",
    ")"
   ]
  },
  {
   "attachments": {},
   "cell_type": "markdown",
   "id": "fed1526e",
   "metadata": {},
   "source": [
    "#### Training"
   ]
  },
  {
   "cell_type": "code",
   "execution_count": 44,
   "id": "334b7064",
   "metadata": {},
   "outputs": [],
   "source": [
    "def create_model(vocabulary_size, embedding_dim):\n",
    "\n",
    "    inputs = {\n",
    "        \"target\": layers.Input(name=\"target\", shape=(), dtype=\"int32\"),\n",
    "        \"context\": layers.Input(name=\"context\", shape=(), dtype=\"int32\"),\n",
    "    }\n",
    "    # Initialize item embeddings.\n",
    "    embed_item = layers.Embedding(\n",
    "        input_dim=vocabulary_size,\n",
    "        output_dim=embedding_dim,\n",
    "        embeddings_initializer=\"he_normal\",\n",
    "        embeddings_regularizer=keras.regularizers.l2(1e-6),\n",
    "        name=\"item_embeddings\",\n",
    "    )\n",
    "    # Lookup embeddings for target.\n",
    "    target_embeddings = embed_item(inputs[\"target\"])\n",
    "    # Lookup embeddings for context.\n",
    "    context_embeddings = embed_item(inputs[\"context\"])\n",
    "    # Compute dot similarity between target and context embeddings.\n",
    "    logits = layers.Dot(axes=1, normalize=False, name=\"dot_similarity\")(\n",
    "        [target_embeddings, context_embeddings]\n",
    "    )\n",
    "    # Create the model.\n",
    "    model = keras.Model(inputs=inputs, outputs=logits)\n",
    "    return model"
   ]
  },
  {
   "cell_type": "code",
   "execution_count": 45,
   "id": "e0c137e6",
   "metadata": {},
   "outputs": [],
   "source": [
    "learning_rate = 0.001\n",
    "embedding_dim = 50\n",
    "num_epochs = 10\n",
    "\n",
    "model = create_model(len(vocabulary), embedding_dim)\n",
    "model.compile(\n",
    "    optimizer=keras.optimizers.Adam(learning_rate),\n",
    "    loss=keras.losses.BinaryCrossentropy(from_logits=True),\n",
    ")"
   ]
  },
  {
   "cell_type": "code",
   "execution_count": 46,
   "id": "870ee85a",
   "metadata": {},
   "outputs": [
    {
     "data": {
      "image/png": "[encoded data removed]",
      "text/plain": [
       "<IPython.core.display.Image object>"
      ]
     },
     "execution_count": 46,
     "metadata": {},
     "output_type": "execute_result"
    }
   ],
   "source": [
    "keras.utils.plot_model(\n",
    "    model,\n",
    "    show_shapes=True,\n",
    "    show_dtype=True,\n",
    "    show_layer_names=True,\n",
    ")"
   ]
  },
  {
   "cell_type": "code",
   "execution_count": 47,
   "id": "fb2c9bbb",
   "metadata": {},
   "outputs": [
    {
     "name": "stdout",
     "output_type": "stream",
     "text": [
      "Epoch 1/10\n"
     ]
    },
    {
     "name": "stderr",
     "output_type": "stream",
     "text": [
      "2023-04-19 00:12:17.995759: I tensorflow/core/common_runtime/executor.cc:1197] [/device:CPU:0] (DEBUG INFO) Executor start aborting (this does not indicate an error and you can ignore this message): INVALID_ARGUMENT: You must feed a value for placeholder tensor 'Placeholder/_3' with dtype int64 and shape [1397880]\n",
      "\t [[{{node Placeholder/_3}}]]\n",
      "2023-04-19 00:12:17.996218: I tensorflow/core/common_runtime/executor.cc:1197] [/device:CPU:0] (DEBUG INFO) Executor start aborting (this does not indicate an error and you can ignore this message): INVALID_ARGUMENT: You must feed a value for placeholder tensor 'Placeholder/_3' with dtype int64 and shape [1397880]\n",
      "\t [[{{node Placeholder/_3}}]]\n"
     ]
    },
    {
     "name": "stdout",
     "output_type": "stream",
     "text": [
      "1365/1365 [==============================] - 14s 10ms/step - loss: 3.2450\n",
      "Epoch 2/10\n",
      "1365/1365 [==============================] - 13s 10ms/step - loss: 3.2478\n",
      "Epoch 3/10\n",
      "1365/1365 [==============================] - 14s 10ms/step - loss: 3.2269\n",
      "Epoch 4/10\n",
      "1365/1365 [==============================] - 13s 10ms/step - loss: 3.2257\n",
      "Epoch 5/10\n",
      "1365/1365 [==============================] - 14s 10ms/step - loss: 3.2247\n",
      "Epoch 6/10\n",
      "1365/1365 [==============================] - 14s 10ms/step - loss: 3.2239\n",
      "Epoch 7/10\n",
      "1365/1365 [==============================] - 12s 9ms/step - loss: 3.2232\n",
      "Epoch 8/10\n",
      "1365/1365 [==============================] - 12s 9ms/step - loss: 3.2222\n",
      "Epoch 9/10\n",
      "1365/1365 [==============================] - 12s 9ms/step - loss: 3.2214\n",
      "Epoch 10/10\n",
      "1365/1365 [==============================] - 12s 9ms/step - loss: 3.2203\n"
     ]
    }
   ],
   "source": [
    "history = model.fit(dataset, epochs=num_epochs)"
   ]
  },
  {
   "cell_type": "code",
   "execution_count": 48,
   "id": "3e58ff46",
   "metadata": {},
   "outputs": [
    {
     "data": {
      "image/png": "[encoded data removed]",
      "text/plain": [
       "<Figure size 640x480 with 1 Axes>"
      ]
     },
     "metadata": {},
     "output_type": "display_data"
    }
   ],
   "source": [
    "plt.plot(history.history[\"loss\"])\n",
    "plt.ylabel(\"loss\")\n",
    "plt.xlabel(\"epoch\")\n",
    "plt.show()"
   ]
  },
  {
   "attachments": {},
   "cell_type": "markdown",
   "id": "01b8e4f7-f974-4bf6-9400-ce25484f74f3",
   "metadata": {},
   "source": [
    "### Information Enhancing\n",
    "\n",
    "> WIP - Work In Progress"
   ]
  },
  {
   "cell_type": "code",
   "execution_count": 276,
   "id": "7361abdc-91b7-4bd0-bf8f-07630d515b28",
   "metadata": {
    "tags": []
   },
   "outputs": [],
   "source": [
    "u = \"U-999\"\n",
    "i = \"I-10\"\n",
    "#positive_neighbors = "
   ]
  },
  {
   "cell_type": "code",
   "execution_count": 277,
   "id": "9e19f223-2c45-4055-8368-6262efdf3f4c",
   "metadata": {
    "tags": []
   },
   "outputs": [
    {
     "data": {
      "text/plain": [
       "[]"
      ]
     },
     "execution_count": 277,
     "metadata": {},
     "output_type": "execute_result"
    }
   ],
   "source": [
    "# sorted([u[0] for u in G.adj[i].items() if u[1]['s'] in rate_range], reverse=True)\n",
    "[v[0] for v in S_e.adj[u].items() if v[1].get('s', -1) > 0]"
   ]
  },
  {
   "cell_type": "code",
   "execution_count": 266,
   "id": "e67c52d8-4e3b-435f-9a59-062853dbfa4f",
   "metadata": {
    "tags": []
   },
   "outputs": [
    {
     "name": "stdout",
     "output_type": "stream",
     "text": [
      "-25.597641665166538\n"
     ]
    }
   ],
   "source": [
    "for v in S_e.adj[u].items():\n",
    "    print(v[1]['s'])\n",
    "    break"
   ]
  },
  {
   "cell_type": "code",
   "execution_count": 289,
   "id": "5fbc32d5-a9e7-4b9e-9303-b14d4aaf23d7",
   "metadata": {
    "collapsed": true,
    "jupyter": {
     "outputs_hidden": true
    },
    "tags": []
   },
   "outputs": [
    {
     "data": {
      "text/plain": [
       "[('U-999', 'U-957', -14.608894399254318),\n",
       " ('U-999', 'U-847', -26.26600851934535),\n",
       " ('U-999', 'U-839', -15.84320764259906),\n",
       " ('U-999', 'U-790', -33.79467822853215),\n",
       " ('U-999', 'U-752', -14.589114749735897),\n",
       " ('U-999', 'U-69', -7.006972362763672),\n",
       " ('U-999', 'U-608', -23.626686127740953),\n",
       " ('U-999', 'U-590', -25.976172133500782),\n",
       " ('U-999', 'U-562', -18.47293792349786),\n",
       " ('U-999', 'U-56', -14.00986829606851),\n",
       " ('U-999', 'U-521', -7.006972362763672),\n",
       " ('U-999', 'U-393', -11.887884693679021),\n",
       " ('U-999', 'U-364', -7.006972362763672),\n",
       " ('U-999', 'U-362', -16.434574021294576),\n",
       " ('U-999', 'U-357', -7.006972362763672),\n",
       " ('U-999', 'U-306', -7.006972362763672),\n",
       " ('U-999', 'U-259', -11.790204122622596),\n",
       " ('U-999', 'U-232', -20.56693737628288),\n",
       " ('U-999', 'U-223', -24.567197538540384),\n",
       " ('U-999', 'U-198', -18.006808892763157),\n",
       " ('U-999', 'U-175', -13.816332427346524),\n",
       " ('U-999', 'U-1496', -15.170247398775706),\n",
       " ('U-999', 'U-1478', -26.699656238715363),\n",
       " ('U-999', 'U-1461', -22.689042842875164),\n",
       " ('U-999', 'U-1451', -18.154455290551972),\n",
       " ('U-999', 'U-1383', -14.434109683273586),\n",
       " ('U-999', 'U-1365', -17.754767036035688),\n",
       " ('U-999', 'U-1300', -13.514311400864452),\n",
       " ('U-999', 'U-1225', -26.674904975581352),\n",
       " ('U-999', 'U-1214', -26.673558927927033),\n",
       " ('U-999', 'U-1167', -17.167227074138623),\n",
       " ('U-999', 'U-1162', -29.681808571544956),\n",
       " ('U-999', 'U-1118', -7.006972362763672),\n",
       " ('U-999', 'U-1102', -7.006972362763672),\n",
       " ('U-999', 'U-1060', -19.240765939853368),\n",
       " ('U-999', 'U-1045', -14.202220867203975),\n",
       " ('U-999', 'U-1028', -15.003651769548574),\n",
       " ('U-999', 'U-1018', -10.66942695127611),\n",
       " ('U-999', 'U-987', -20.521047781372477),\n",
       " ('U-999', 'U-849', -13.196671180412114),\n",
       " ('U-999', 'U-812', -18.587410154113158),\n",
       " ('U-999', 'U-778', -7.953334122133807),\n",
       " ('U-999', 'U-762', -7.953334122133807),\n",
       " ('U-999', 'U-738', -18.377944331825923),\n",
       " ('U-999', 'U-65', -7.953334122133807),\n",
       " ('U-999', 'U-592', -7.953334122133807),\n",
       " ('U-999', 'U-585', -28.23850436145628),\n",
       " ('U-999', 'U-583', -10.538497341230315),\n",
       " ('U-999', 'U-491', -7.953334122133807),\n",
       " ('U-999', 'U-429', -7.953334122133807),\n",
       " ('U-999', 'U-313', -13.616470067787075),\n",
       " ('U-999', 'U-296', -14.481395125959628),\n",
       " ('U-999', 'U-188', -12.73598380505468),\n",
       " ('U-999', 'U-1508', -25.597641665166538),\n",
       " ('U-999', 'U-1499', -12.079380847824382),\n",
       " ('U-999', 'U-1480', -28.768608223926392),\n",
       " ('U-999', 'U-1431', -16.615202104821567),\n",
       " ('U-999', 'U-1424', -17.36309155226869),\n",
       " ('U-999', 'U-1388', -30.086149029618653),\n",
       " ('U-999', 'U-1364', -7.953334122133807),\n",
       " ('U-999', 'U-1130', -7.953334122133807),\n",
       " ('U-999', 'U-1072', -22.996302454488408),\n",
       " ('U-999', 'U-952', -12.594735992610028),\n",
       " ('U-999', 'U-92', -21.09107862383157),\n",
       " ('U-999', 'U-894', -10.461614571837687),\n",
       " ('U-999', 'U-784', -19.069554117534192),\n",
       " ('U-999', 'U-775', -5.8053668851791755),\n",
       " ('U-999', 'U-737', -21.92459562753043),\n",
       " ('U-999', 'U-588', -5.8053668851791755),\n",
       " ('U-999', 'U-561', -21.155902372165183),\n",
       " ('U-999', 'U-413', -8.66110226432668),\n",
       " ('U-999', 'U-409', -17.38243272317051),\n",
       " ('U-999', 'U-238', -14.055919620383698),\n",
       " ('U-999', 'U-235', -31.76109775386562),\n",
       " ('U-999', 'U-166', -26.381012387001455),\n",
       " ('U-999', 'U-1333', -23.298303504570864),\n",
       " ('U-999', 'U-123', -12.841522121048556),\n",
       " ('U-999', 'U-1122', -14.49184911525272),\n",
       " ('U-999', 'U-667', -17.6373136221469),\n",
       " ('U-999', 'U-620', -5.353265323980347),\n",
       " ('U-999', 'U-61', -23.925145181966442),\n",
       " ('U-999', 'U-477', -30.32321848076474),\n",
       " ('U-999', 'U-375', -20.540237237199108),\n",
       " ('U-999', 'U-345', -13.132811866224806),\n",
       " ('U-999', 'U-328', -27.134957147641497),\n",
       " ('U-999', 'U-215', -23.663567392599674),\n",
       " ('U-999', 'U-1159', -17.282689113370104),\n",
       " ('U-999', 'U-1088', -24.73258504094535),\n",
       " ('U-999', 'U-829', -18.66224679689371),\n",
       " ('U-999', 'U-808', -5.3236361254829125),\n",
       " ('U-999', 'U-672', -11.438919060516998),\n",
       " ('U-999', 'U-487', -24.70283541814514),\n",
       " ('U-999', 'U-30', -24.231755984136186),\n",
       " ('U-999', 'U-1453', -19.208291473704996),\n",
       " ('U-999', 'U-1121', -5.3236361254829125),\n",
       " ('U-999', 'U-1096', -8.774040192877349),\n",
       " ('U-999', 'U-953', -10.180105850057632),\n",
       " ('U-999', 'U-94', -6.0909151900025185),\n",
       " ('U-999', 'U-805', -18.4699291344808),\n",
       " ('U-999', 'U-792', -6.0909151900025185),\n",
       " ('U-999', 'U-754', -6.0909151900025185),\n",
       " ('U-999', 'U-713', -6.0909151900025185),\n",
       " ('U-999', 'U-611', -13.799836654186379),\n",
       " ('U-999', 'U-560', -6.0909151900025185),\n",
       " ('U-999', 'U-539', -6.0909151900025185),\n",
       " ('U-999', 'U-513', -6.0909151900025185),\n",
       " ('U-999', 'U-411', -23.017980335921386),\n",
       " ('U-999', 'U-381', -6.0909151900025185),\n",
       " ('U-999', 'U-352', -22.658472417819283),\n",
       " ('U-999', 'U-35', -6.0909151900025185),\n",
       " ('U-999', 'U-344', -16.690045755773067),\n",
       " ('U-999', 'U-340', -6.0909151900025185),\n",
       " ('U-999', 'U-330', -11.94341212901116),\n",
       " ('U-999', 'U-326', -6.0909151900025185),\n",
       " ('U-999', 'U-307', -11.313648466118593),\n",
       " ('U-999', 'U-269', -15.273969358275066),\n",
       " ('U-999', 'U-234', -22.24055662889851),\n",
       " ('U-999', 'U-231', -18.461037377180194),\n",
       " ('U-999', 'U-21', -6.0909151900025185),\n",
       " ('U-999', 'U-179', -16.704889234896775),\n",
       " ('U-999', 'U-1500', -13.019090731066656),\n",
       " ('U-999', 'U-1495', -6.0909151900025185),\n",
       " ('U-999', 'U-1470', -22.033334937729663),\n",
       " ('U-999', 'U-142', -12.980731028833054),\n",
       " ('U-999', 'U-1382', -15.424223405689402),\n",
       " ('U-999', 'U-1312', -13.878155028321334),\n",
       " ('U-999', 'U-1272', -12.414711359056136),\n",
       " ('U-999', 'U-126', -11.141224735423442),\n",
       " ('U-999', 'U-1243', -10.674331537277666),\n",
       " ('U-999', 'U-1236', -15.17914573601905),\n",
       " ('U-999', 'U-1201', -10.027535480582184),\n",
       " ('U-999', 'U-1197', -18.422180010932074),\n",
       " ('U-999', 'U-115', -15.868167488086362),\n",
       " ('U-999', 'U-1100', -18.99004081031468),\n",
       " ('U-999', 'U-1062', -16.703284102224448),\n",
       " ('U-999', 'U-1057', -12.980731028833054),\n",
       " ('U-999', 'U-1055', -6.0909151900025185),\n",
       " ('U-999', 'U-970', -10.058980852464623),\n",
       " ('U-999', 'U-927', -4.288229256789676),\n",
       " ('U-999', 'U-912', -4.288229256789676),\n",
       " ('U-999', 'U-868', -4.288229256789676),\n",
       " ('U-999', 'U-823', -4.288229256789676),\n",
       " ('U-999', 'U-711', -4.288229256789676),\n",
       " ('U-999', 'U-698', -4.288229256789676),\n",
       " ('U-999', 'U-694', -4.288229256789676),\n",
       " ('U-999', 'U-641', -17.667607393524268),\n",
       " ('U-999', 'U-621', -4.288229256789676),\n",
       " ('U-999', 'U-547', -29.19814756559096),\n",
       " ('U-999', 'U-334', -8.56109202458716),\n",
       " ('U-999', 'U-250', -27.07281130077405),\n",
       " ('U-999', 'U-1440', -15.28301746823878),\n",
       " ('U-999', 'U-1417', -16.857177464675452),\n",
       " ('U-999', 'U-1286', -16.19856336783216),\n",
       " ('U-999', 'U-1127', -19.669427094048523),\n",
       " ('U-999', 'U-1103', -4.288229256789676),\n",
       " ('U-999', 'U-106', -13.850496788383275),\n",
       " ('U-999', 'U-1019', -10.1681548940509),\n",
       " ('U-999', 'U-968', -4.716575404293736),\n",
       " ('U-999', 'U-955', -12.20511674013895),\n",
       " ('U-999', 'U-817', -8.515016755903199),\n",
       " ('U-999', 'U-747', -20.468086545711262),\n",
       " ('U-999', 'U-518', -10.081150459909267),\n",
       " ('U-999', 'U-171', -4.716575404293736),\n",
       " ('U-999', 'U-1065', -5.383629534696541),\n",
       " ('U-999', 'U-984', -27.310139403983104),\n",
       " ('U-999', 'U-964', -11.720380418342595),\n",
       " ('U-999', 'U-949', -24.807475943289933),\n",
       " ('U-999', 'U-929', -15.127951725210416),\n",
       " ('U-999', 'U-928', -11.720380418342595),\n",
       " ('U-999', 'U-902', -19.940319624354853),\n",
       " ('U-999', 'U-881', -11.720380418342595),\n",
       " ('U-999', 'U-870', -11.720380418342595),\n",
       " ('U-999', 'U-782', -30.71892033852919),\n",
       " ('U-999', 'U-664', -11.720380418342595),\n",
       " ('U-999', 'U-652', -11.720380418342595),\n",
       " ('U-999', 'U-626', -12.055942236260083),\n",
       " ('U-999', 'U-507', -21.40938974068385),\n",
       " ('U-999', 'U-506', -16.937732251765656),\n",
       " ('U-999', 'U-432', -25.093119717743917),\n",
       " ('U-999', 'U-43', -11.720380418342595),\n",
       " ('U-999', 'U-41', -11.720380418342595),\n",
       " ('U-999', 'U-400', -19.417963477807678),\n",
       " ('U-999', 'U-388', -15.384072387674983),\n",
       " ('U-999', 'U-354', -11.720380418342595),\n",
       " ('U-999', 'U-323', -17.26927295136481),\n",
       " ('U-999', 'U-322', -22.880355228591203),\n",
       " ('U-999', 'U-258', -16.937732251765656),\n",
       " ('U-999', 'U-200', -15.161371545315417),\n",
       " ('U-999', 'U-185', -14.312398864827411),\n",
       " ('U-999', 'U-152', -20.086995497503096),\n",
       " ('U-999', 'U-1488', -11.720380418342595),\n",
       " ('U-999', 'U-1462', -24.65013279073839),\n",
       " ('U-999', 'U-1356', -17.512528909473758),\n",
       " ('U-999', 'U-1341', -16.130127272094516),\n",
       " ('U-999', 'U-1297', -21.891233308774765),\n",
       " ('U-999', 'U-127', -17.423576449872904),\n",
       " ('U-999', 'U-1206', -11.720380418342595),\n",
       " ('U-999', 'U-1189', -12.062048274115458),\n",
       " ('U-999', 'U-1165', -18.048818953932187),\n",
       " ('U-999', 'U-1040', -11.720380418342595),\n",
       " ('U-999', 'U-104', -18.748207888960216),\n",
       " ('U-999', 'U-925', -9.233246600699978),\n",
       " ('U-999', 'U-795', -3.788639770709781),\n",
       " ('U-999', 'U-787', -3.788639770709781),\n",
       " ('U-999', 'U-72', -3.788639770709781),\n",
       " ('U-999', 'U-704', -3.788639770709781),\n",
       " ('U-999', 'U-498', -7.909597613977196),\n",
       " ('U-999', 'U-316', -22.17286642977761),\n",
       " ('U-999', 'U-1182', -3.788639770709781),\n",
       " ('U-999', 'U-943', -8.620342521640097),\n",
       " ('U-999', 'U-93', -8.620342521640097),\n",
       " ('U-999', 'U-897', -8.620342521640097),\n",
       " ('U-999', 'U-888', -14.864753310659093),\n",
       " ('U-999', 'U-876', -11.507778980893406),\n",
       " ('U-999', 'U-866', -8.620342521640097),\n",
       " ('U-999', 'U-696', -8.620342521640097),\n",
       " ('U-999', 'U-656', -23.647440830793407),\n",
       " ('U-999', 'U-634', -21.645672100892035),\n",
       " ('U-999', 'U-629', -22.12164827797356),\n",
       " ('U-999', 'U-609', -8.620342521640097),\n",
       " ('U-999', 'U-573', -8.620342521640097),\n",
       " ('U-999', 'U-551', -8.620342521640097),\n",
       " ('U-999', 'U-524', -8.620342521640097),\n",
       " ('U-999', 'U-489', -8.978468655842542),\n",
       " ('U-999', 'U-448', -8.620342521640097),\n",
       " ('U-999', 'U-439', -14.868163901548915),\n",
       " ('U-999', 'U-329', -19.249448291427324),\n",
       " ('U-999', 'U-317', -8.620342521640097),\n",
       " ('U-999', 'U-207', -8.620342521640097),\n",
       " ('U-999', 'U-187', -19.927821264967978),\n",
       " ('U-999', 'U-173', -8.620342521640097),\n",
       " ('U-999', 'U-159', -13.573096270461551),\n",
       " ('U-999', 'U-150', -8.620342521640097),\n",
       " ('U-999', 'U-148', -8.620342521640097),\n",
       " ('U-999', 'U-1468', -14.606996715730961),\n",
       " ('U-999', 'U-1432', -15.135931969607089),\n",
       " ('U-999', 'U-1430', -29.658644991994695),\n",
       " ('U-999', 'U-1429', -8.620342521640097),\n",
       " ('U-999', 'U-1360', -8.620342521640097),\n",
       " ('U-999', 'U-1346', -8.620342521640097),\n",
       " ('U-999', 'U-1336', -8.620342521640097),\n",
       " ('U-999', 'U-1307', -16.4409725903104),\n",
       " ('U-999', 'U-1289', -27.274720032923614),\n",
       " ('U-999', 'U-1287', -14.62315985118369),\n",
       " ('U-999', 'U-1257', -12.216046326041957),\n",
       " ('U-999', 'U-1194', -8.620342521640097),\n",
       " ('U-999', 'U-1152', -15.880941970461908),\n",
       " ('U-999', 'U-1147', -14.948950318840316),\n",
       " ('U-999', 'U-1133', -23.153519283979847),\n",
       " ('U-999', 'U-1010', -8.620342521640097),\n",
       " ('U-999', 'U-731', -23.935264134429158),\n",
       " ('U-999', 'U-692', -18.587161989838254),\n",
       " ('U-999', 'U-645', -6.220433940953656),\n",
       " ('U-999', 'U-616', -6.220433940953656),\n",
       " ('U-999', 'U-597', -18.05621739407461),\n",
       " ('U-999', 'U-522', -6.220433940953656),\n",
       " ('U-999', 'U-407', -6.220433940953656),\n",
       " ('U-999', 'U-267', -9.85794728995755),\n",
       " ('U-999', 'U-256', -13.543348503881829),\n",
       " ('U-999', 'U-236', -12.320852089826943),\n",
       " ('U-999', 'U-2', -6.220433940953656),\n",
       " ('U-999', 'U-1458', -10.951934826505608),\n",
       " ('U-999', 'U-1426', -18.92495276701037),\n",
       " ('U-999', 'U-1155', -30.7915385521729),\n",
       " ('U-999', 'U-944', -4.086832956457735),\n",
       " ('U-999', 'U-788', -17.23894571263475),\n",
       " ('U-999', 'U-757', -4.086832956457735),\n",
       " ('U-999', 'U-712', -4.086832956457735),\n",
       " ('U-999', 'U-650', -7.600592809161543),\n",
       " ('U-999', 'U-638', -8.133832763501673),\n",
       " ('U-999', 'U-595', -4.086832956457735),\n",
       " ('U-999', 'U-580', -4.086832956457735),\n",
       " ('U-999', 'U-499', -4.086832956457735),\n",
       " ('U-999', 'U-469', -4.086832956457735),\n",
       " ('U-999', 'U-414', -7.600592809161543),\n",
       " ('U-999', 'U-391', -4.086832956457735),\n",
       " ('U-999', 'U-367', -10.81408735557243),\n",
       " ('U-999', 'U-314', -4.086832956457735),\n",
       " ('U-999', 'U-298', -10.988379523146863),\n",
       " ('U-999', 'U-290', -4.086832956457735),\n",
       " ('U-999', 'U-287', -4.086832956457735),\n",
       " ('U-999', 'U-262', -19.575919439248075),\n",
       " ('U-999', 'U-249', -29.217949193068737),\n",
       " ('U-999', 'U-224', -4.086832956457735),\n",
       " ('U-999', 'U-211', -4.086832956457735),\n",
       " ('U-999', 'U-205', -10.81408735557243),\n",
       " ('U-999', 'U-1471', -4.086832956457735),\n",
       " ('U-999', 'U-1465', -4.086832956457735),\n",
       " ('U-999', 'U-1442', -4.086832956457735),\n",
       " ('U-999', 'U-1423', -4.086832956457735),\n",
       " ('U-999', 'U-1344', -4.086832956457735),\n",
       " ('U-999', 'U-1343', -12.38405705494441),\n",
       " ('U-999', 'U-1258', -17.812819272627756),\n",
       " ('U-999', 'U-1184', -20.95918084592004),\n",
       " ('U-999', 'U-1173', -15.778481729330851),\n",
       " ('U-999', 'U-1153', -4.086832956457735),\n",
       " ('U-999', 'U-1142', -4.086832956457735),\n",
       " ('U-999', 'U-1083', -12.005730586993085),\n",
       " ('U-999', 'U-1079', -4.086832956457735),\n",
       " ('U-999', 'U-764', -0.3355392759365988),\n",
       " ('U-999', 'U-3', -5.652144097855728),\n",
       " ('U-999', 'U-1249', 0),\n",
       " ('U-999', 'U-1491', -0.37240385855783364),\n",
       " ('U-999', 'U-918', -0.17401546239311877),\n",
       " ('U-999', 'U-845', -0.16433785334394055),\n",
       " ('U-999', 'U-865', -11.346065775606364),\n",
       " ('U-999', 'U-690', -4.778747269089264),\n",
       " ('U-999', 'U-494', -4.778747269089264),\n",
       " ('U-999', 'U-427', -4.778747269089264),\n",
       " ('U-999', 'U-421', -8.446898659567104),\n",
       " ('U-999', 'U-293', -20.027927159065257),\n",
       " ('U-999', 'U-202', -26.391694375158565),\n",
       " ('U-999', 'U-1396', -23.851278265725007),\n",
       " ('U-999', 'U-1208', -0.17876711528493122),\n",
       " ('U-999', 'U-310', -0.32857120527886474),\n",
       " ('U-999', 'U-644', -5.3122526833582855),\n",
       " ('U-999', 'U-289', -12.103478761714696),\n",
       " ('U-999', 'U-288', -12.103478761714696),\n",
       " ('U-999', 'U-251', -5.3122526833582855),\n",
       " ('U-999', 'U-1351', -5.3122526833582855),\n",
       " ('U-999', 'U-1274', -17.193215672014205),\n",
       " ('U-999', 'U-1157', -9.422040222958334),\n",
       " ('U-999', 'U-1039', -6.871646005363978),\n",
       " ('U-999', 'U-78', -0.15790377586103352),\n",
       " ('U-999', 'U-417', -5.043613258414922),\n",
       " ('U-999', 'U-33', -12.280271882308632),\n",
       " ('U-999', 'U-1439', -23.307867719239947),\n",
       " ('U-999', 'U-1092', -13.930368916500743),\n",
       " ('U-999', 'U-891', -8.29044463426646),\n",
       " ('U-999', 'U-872', -7.804616690475432),\n",
       " ('U-999', 'U-87', -13.463387592464642),\n",
       " ('U-999', 'U-82', -7.804616690475432),\n",
       " ('U-999', 'U-761', -16.501268458732195),\n",
       " ('U-999', 'U-756', -11.935076708013623),\n",
       " ('U-999', 'U-730', -7.804616690475432),\n",
       " ('U-999', 'U-702', -7.972094166492687),\n",
       " ('U-999', 'U-693', -7.804616690475432),\n",
       " ('U-999', 'U-66', -15.037878673784043),\n",
       " ('U-999', 'U-622', -7.804616690475432),\n",
       " ('U-999', 'U-578', -7.804616690475432),\n",
       " ('U-999', 'U-540', -7.804616690475432),\n",
       " ('U-999', 'U-514', -7.804616690475432),\n",
       " ('U-999', 'U-484', -7.804616690475432),\n",
       " ('U-999', 'U-465', -7.804616690475432),\n",
       " ('U-999', 'U-449', -12.12938179673813),\n",
       " ('U-999', 'U-416', -11.936056438553514),\n",
       " ('U-999', 'U-4', -7.804616690475432),\n",
       " ('U-999', 'U-398', -15.037878673784043),\n",
       " ('U-999', 'U-380', -7.804616690475432),\n",
       " ('U-999', 'U-315', -7.804616690475432),\n",
       " ('U-999', 'U-292', -7.804616690475432),\n",
       " ('U-999', 'U-260', -7.804616690475432),\n",
       " ('U-999', 'U-255', -7.804616690475432),\n",
       " ('U-999', 'U-210', -7.804616690475432),\n",
       " ('U-999', 'U-20', -7.804616690475432),\n",
       " ('U-999', 'U-1504', -7.804616690475432),\n",
       " ('U-999', 'U-145', -15.107330063943959),\n",
       " ('U-999', 'U-1405', -7.804616690475432),\n",
       " ('U-999', 'U-1299', -7.804616690475432),\n",
       " ('U-999', 'U-1210', -7.804616690475432),\n",
       " ('U-999', 'U-119', -7.804616690475432),\n",
       " ('U-999', 'U-1180', -7.804616690475432),\n",
       " ('U-999', 'U-1129', -7.804616690475432),\n",
       " ('U-999', 'U-1043', -7.804616690475432),\n",
       " ('U-999', 'U-1007', -7.804616690475432),\n",
       " ('U-999', 'U-1002', -19.44476562944324),\n",
       " ('U-999', 'U-814', -17.35939791300244),\n",
       " ('U-999', 'U-772', -7.718784617219432),\n",
       " ('U-999', 'U-577', -5.845530036310666),\n",
       " ('U-999', 'U-237', -5.845530036310666),\n",
       " ('U-999', 'U-1229', -20.800289193231972),\n",
       " ('U-999', 'U-1082', -10.436278348891634),\n",
       " ('U-999', 'U-58', -13.453285040238933),\n",
       " ('U-999', 'U-1262', -6.880005402422427),\n",
       " ('U-999', 'U-1233', -6.880005402422427),\n",
       " ('U-999', 'U-926', -6.3373900039128905),\n",
       " ('U-999', 'U-915', -13.278005646823765),\n",
       " ('U-999', 'U-766', -6.3373900039128905),\n",
       " ('U-999', 'U-574', -6.3373900039128905),\n",
       " ('U-999', 'U-424', -20.680463811739497),\n",
       " ('U-999', 'U-318', -10.521792622994418),\n",
       " ('U-999', 'U-31', -6.3373900039128905),\n",
       " ('U-999', 'U-1482', -6.3373900039128905),\n",
       " ('U-999', 'U-1193', -6.3373900039128905),\n",
       " ('U-999', 'U-1112', -6.3373900039128905),\n",
       " ('U-999', 'U-1013', -6.3373900039128905),\n",
       " ('U-999', 'U-824', -6.156714125743864),\n",
       " ('U-999', 'U-587', -11.958213498257184),\n",
       " ('U-999', 'U-464', -6.156714125743864),\n",
       " ('U-999', 'U-418', -13.474742820127117),\n",
       " ('U-999', 'U-976', -5.437890926714177),\n",
       " ('U-999', 'U-877', -5.437890926714177),\n",
       " ('U-999', 'U-869', -5.437890926714177),\n",
       " ('U-999', 'U-79', -5.9298228393513455),\n",
       " ('U-999', 'U-777', -5.437890926714177),\n",
       " ('U-999', 'U-733', -5.437890926714177),\n",
       " ('U-999', 'U-681', -10.253389954542987),\n",
       " ('U-999', 'U-659', -5.437890926714177),\n",
       " ('U-999', 'U-655', -11.541225883519681),\n",
       " ('U-999', 'U-623', -5.437890926714177),\n",
       " ('U-999', 'U-603', -5.437890926714177),\n",
       " ('U-999', 'U-261', -9.869485372539492),\n",
       " ('U-999', 'U-1313', -5.437890926714177),\n",
       " ('U-999', 'U-1306', -5.437890926714177),\n",
       " ('U-999', 'U-1220', -5.437890926714177),\n",
       " ('U-999', 'U-1178', -12.761864965557802),\n",
       " ('U-999', 'U-1124', -5.437890926714177),\n",
       " ('U-999', 'U-1107', -5.437890926714177),\n",
       " ('U-999', 'U-1105', -5.437890926714177),\n",
       " ('U-999', 'U-1080', -5.437890926714177),\n",
       " ('U-999', 'U-1067', -5.437890926714177),\n",
       " ('U-999', 'U-1017', -13.56727223834678),\n",
       " ('U-999', 'U-880', -6.127772606309894),\n",
       " ('U-999', 'U-780', -12.196973962981563),\n",
       " ('U-999', 'U-399', -6.127772606309894),\n",
       " ('U-999', 'U-23', -6.127772606309894),\n",
       " ('U-999', 'U-125', -6.127772606309894),\n",
       " ('U-999', 'U-550', -11.368900947044594),\n",
       " ('U-999', 'U-403', -5.197101204795182),\n",
       " ('U-999', 'U-1443', -8.002659438677135),\n",
       " ('U-999', 'U-137', -16.554189755010196),\n",
       " ('U-999', 'U-1363', -8.002659438677135),\n",
       " ('U-999', 'U-133', -8.002659438677135),\n",
       " ('U-999', 'U-1115', -15.056364031783694),\n",
       " ('U-999', 'U-746', -9.022243001364346),\n",
       " ('U-999', 'U-665', -9.022243001364346),\n",
       " ('U-999', 'U-408', -9.022243001364346),\n",
       " ('U-999', 'U-37', -9.022243001364346),\n",
       " ('U-999', 'U-1506', -9.022243001364346),\n",
       " ('U-999', 'U-1355', -12.89268462890093),\n",
       " ('U-999', 'U-1288', -9.022243001364346),\n",
       " ('U-999', 'U-1280', -9.022243001364346),\n",
       " ('U-999', 'U-1123', -9.022243001364346),\n",
       " ('U-999', 'U-1095', -9.022243001364346),\n",
       " ('U-999', 'U-98', -12.808226791265728),\n",
       " ('U-999', 'U-932', -4.725941209042541),\n",
       " ('U-999', 'U-903', -11.065855420911483),\n",
       " ('U-999', 'U-816', -4.725941209042541),\n",
       " ('U-999', 'U-734', -4.725941209042541),\n",
       " ('U-999', 'U-614', -4.725941209042541),\n",
       " ('U-999', 'U-325', -4.725941209042541),\n",
       " ('U-999', 'U-321', -4.725941209042541),\n",
       " ('U-999', 'U-299', -4.725941209042541),\n",
       " ('U-999', 'U-16', -4.725941209042541),\n",
       " ('U-999', 'U-1369', -4.725941209042541),\n",
       " ('U-999', 'U-1340', -4.725941209042541),\n",
       " ('U-999', 'U-1059', -4.725941209042541),\n",
       " ('U-999', 'U-1033', -4.725941209042541),\n",
       " ('U-999', 'U-17', 0),\n",
       " ('U-999', 'U-873', -6.5783506657123),\n",
       " ('U-999', 'U-735', -6.5783506657123),\n",
       " ('U-999', 'U-586', -6.5783506657123),\n",
       " ('U-999', 'U-486', -13.178150599615677),\n",
       " ('U-999', 'U-473', -6.5783506657123),\n",
       " ('U-999', 'U-438', -13.178150599615677),\n",
       " ('U-999', 'U-1318', -6.5783506657123),\n",
       " ('U-999', 'U-1087', -14.721478167986705),\n",
       " ('U-999', 'U-1076', -6.5783506657123),\n",
       " ('U-999', 'U-327', -7.668976848211182),\n",
       " ('U-999', 'U-309', -7.668976848211182),\n",
       " ('U-999', 'U-134', -7.668976848211182),\n",
       " ('U-999', 'U-1132', -7.668976848211182),\n",
       " ('U-999', 'U-1126', -7.668976848211182),\n",
       " ('U-999', 'U-1011', -7.668976848211182),\n",
       " ('U-999', 'U-541', -5.191789151703296),\n",
       " ('U-999', 'U-1052', -11.190416311300686),\n",
       " ('U-999', 'U-67', -5.2235323640527245),\n",
       " ('U-999', 'U-593', -5.2235323640527245),\n",
       " ('U-999', 'U-53', -5.2235323640527245),\n",
       " ('U-999', 'U-459', -9.893865295265144),\n",
       " ('U-999', 'U-1416', -10.561411980095242),\n",
       " ('U-999', 'U-1283', -8.598991649102128),\n",
       " ('U-999', 'U-660', -10.500552938684713),\n",
       " ('U-999', 'U-450', -6.756689641394328),\n",
       " ('U-999', 'U-81', -7.237151705846659),\n",
       " ('U-999', 'U-1373', -6.355320612896363),\n",
       " ('U-999', 'U-1061', -6.355320612896363),\n",
       " ('U-999', 'U-1437', -6.707162604368506),\n",
       " ('U-999', 'U-1015', -6.707162604368506),\n",
       " ('U-999', 'U-245', -12.848057071020788),\n",
       " ('U-999', 'U-963', -9.290743263246549),\n",
       " ('U-999', 'U-854', -8.965308819528333),\n",
       " ('U-999', 'U-745', -8.965308819528333),\n",
       " ('U-999', 'U-728', -8.965308819528333),\n",
       " ('U-999', 'U-718', -8.965308819528333),\n",
       " ('U-999', 'U-601', -8.965308819528333),\n",
       " ('U-999', 'U-515', -8.965308819528333),\n",
       " ('U-999', 'U-461', -8.965308819528333),\n",
       " ('U-999', 'U-1422', -8.965308819528333),\n",
       " ('U-999', 'U-1334', -8.965308819528333),\n",
       " ('U-999', 'U-300', -0.341140426001066),\n",
       " ('U-999', 'U-1394', -0.3184172186215517),\n",
       " ('U-999', 'U-1459', 0),\n",
       " ('U-999', 'U-898', 0),\n",
       " ('U-999', 'U-433', -0.6897201655289333),\n",
       " ('U-999', 'U-961', -0.1952005988099936),\n",
       " ('U-999', 'U-755', -0.1952005988099936),\n",
       " ('U-999', 'U-509', -0.8958787883154593),\n",
       " ('U-999', 'U-29', -0.1952005988099936),\n",
       " ('U-999', 'U-60', 0),\n",
       " ('U-999', 'U-51', 0),\n",
       " ('U-999', 'U-170', 0),\n",
       " ('U-999', 'U-219', 0),\n",
       " ('U-999', 'U-837', -0.3296384422677078),\n",
       " ('U-999', 'U-1463', -0.5332641127543638),\n",
       " ('U-999', 'U-144', 0),\n",
       " ('U-999', 'U-831', -0.1671106366064299),\n",
       " ('U-999', 'U-591', -0.8506563872804533),\n",
       " ('U-999', 'U-670', -0.16080299738871884),\n",
       " ('U-999', 'U-478', -0.32759656447879404),\n",
       " ('U-999', 'U-1149', -0.16040950299510878),\n",
       " ('U-999', 'U-320', 0),\n",
       " ('U-999', 'U-304', -0.15769961508692432),\n",
       " ('U-999', 'U-1270', 0),\n",
       " ('U-999', 'U-998', 0),\n",
       " ('U-999', 'U-533', -0.1674621910418043),\n",
       " ('U-999', 'U-546', -0.1606970565904392),\n",
       " ('U-999', 'U-1199', -0.49662748671572554),\n",
       " ('U-999', 'U-1359', 0),\n",
       " ('U-999', 'U-436', -0.17401546239311877),\n",
       " ('U-999', 'U-95', 0),\n",
       " ('U-999', 'U-1398', -0.16743162109090218),\n",
       " ('U-999', 'U-637', -0.3254344437182142),\n",
       " ('U-999', 'U-1342', 0),\n",
       " ('U-999', 'U-273', -0.16104751473552506),\n",
       " ('U-999', 'U-938', 0),\n",
       " ('U-999', 'U-402', 0),\n",
       " ('U-999', 'U-361', -0.1745412851436886),\n",
       " ('U-999', 'U-1160', -0.17447754905271046),\n",
       " ('U-999', 'U-725', -0.17458908721192223),\n",
       " ('U-999', 'U-969', 0),\n",
       " ('U-999', 'U-264', 0),\n",
       " ('U-999', 'U-164', 0),\n",
       " ('U-999', 'U-284', 0),\n",
       " ('U-999', 'U-1331', 0),\n",
       " ('U-999', 'U-830', 0),\n",
       " ('U-999', 'U-387', 0),\n",
       " ('U-999', 'U-396', 0),\n",
       " ('U-999', 'U-556', 0),\n",
       " ('U-999', 'U-1212', 0),\n",
       " ('U-999', 'U-914', -0.1761775181460177),\n",
       " ('U-999', 'U-995', None),\n",
       " ('U-999', 'U-972', None),\n",
       " ('U-999', 'U-960', None),\n",
       " ('U-999', 'U-942', None),\n",
       " ('U-999', 'U-939', None),\n",
       " ('U-999', 'U-933', None),\n",
       " ('U-999', 'U-931', None),\n",
       " ('U-999', 'U-930', None),\n",
       " ('U-999', 'U-919', None),\n",
       " ('U-999', 'U-907', None),\n",
       " ('U-999', 'U-886', None),\n",
       " ('U-999', 'U-88', None),\n",
       " ('U-999', 'U-871', None),\n",
       " ('U-999', 'U-867', None),\n",
       " ('U-999', 'U-864', None),\n",
       " ('U-999', 'U-863', None),\n",
       " ('U-999', 'U-843', None),\n",
       " ('U-999', 'U-841', None),\n",
       " ('U-999', 'U-838', None),\n",
       " ('U-999', 'U-836', None),\n",
       " ('U-999', 'U-813', None),\n",
       " ('U-999', 'U-768', None),\n",
       " ('U-999', 'U-759', None),\n",
       " ('U-999', 'U-750', None),\n",
       " ('U-999', 'U-749', None),\n",
       " ('U-999', 'U-744', None),\n",
       " ('U-999', 'U-716', None),\n",
       " ('U-999', 'U-7', None),\n",
       " ('U-999', 'U-669', None),\n",
       " ('U-999', 'U-640', None),\n",
       " ('U-999', 'U-633', None),\n",
       " ('U-999', 'U-584', None),\n",
       " ('U-999', 'U-572', None),\n",
       " ('U-999', 'U-552', None),\n",
       " ('U-999', 'U-548', None),\n",
       " ('U-999', 'U-535', None),\n",
       " ('U-999', 'U-526', None),\n",
       " ('U-999', 'U-504', None),\n",
       " ('U-999', 'U-500', None),\n",
       " ('U-999', 'U-472', None),\n",
       " ('U-999', 'U-471', None),\n",
       " ('U-999', 'U-453', None),\n",
       " ('U-999', 'U-423', None),\n",
       " ('U-999', 'U-420', None),\n",
       " ('U-999', 'U-389', None),\n",
       " ('U-999', 'U-386', None),\n",
       " ('U-999', 'U-385', None),\n",
       " ('U-999', 'U-384', None),\n",
       " ('U-999', 'U-353', None),\n",
       " ('U-999', 'U-302', None),\n",
       " ('U-999', 'U-294', None),\n",
       " ('U-999', 'U-280', None),\n",
       " ('U-999', 'U-28', None),\n",
       " ('U-999', 'U-272', None),\n",
       " ('U-999', 'U-27', None),\n",
       " ('U-999', 'U-239', None),\n",
       " ('U-999', 'U-212', None),\n",
       " ('U-999', 'U-195', None),\n",
       " ('U-999', 'U-193', None),\n",
       " ('U-999', 'U-182', None),\n",
       " ('U-999', 'U-169', None),\n",
       " ('U-999', 'U-168', None),\n",
       " ('U-999', 'U-161', None),\n",
       " ('U-999', 'U-151', None),\n",
       " ('U-999', 'U-1501', None),\n",
       " ('U-999', 'U-1483', None),\n",
       " ('U-999', 'U-1469', None),\n",
       " ('U-999', 'U-1455', None),\n",
       " ('U-999', 'U-1452', None),\n",
       " ('U-999', 'U-1446', None),\n",
       " ('U-999', 'U-1438', None),\n",
       " ('U-999', 'U-1419', None),\n",
       " ('U-999', 'U-1406', None),\n",
       " ('U-999', 'U-1402', None),\n",
       " ('U-999', 'U-1366', None),\n",
       " ('U-999', 'U-1348', None),\n",
       " ('U-999', 'U-1335', None),\n",
       " ('U-999', 'U-1316', None),\n",
       " ('U-999', 'U-1315', None),\n",
       " ('U-999', 'U-1305', None),\n",
       " ('U-999', 'U-1295', None),\n",
       " ('U-999', 'U-1282', None),\n",
       " ('U-999', 'U-1268', None),\n",
       " ('U-999', 'U-1267', None),\n",
       " ('U-999', 'U-1259', None),\n",
       " ('U-999', 'U-1246', None),\n",
       " ('U-999', 'U-1235', None),\n",
       " ('U-999', 'U-1232', None),\n",
       " ('U-999', 'U-1222', None),\n",
       " ('U-999', 'U-122', None),\n",
       " ('U-999', 'U-1219', None),\n",
       " ('U-999', 'U-1218', None),\n",
       " ('U-999', 'U-1209', None),\n",
       " ('U-999', 'U-1192', None),\n",
       " ('U-999', 'U-118', None),\n",
       " ('U-999', 'U-1164', None),\n",
       " ('U-999', 'U-1125', None),\n",
       " ('U-999', 'U-1111', None),\n",
       " ('U-999', 'U-1110', None),\n",
       " ('U-999', 'U-111', None),\n",
       " ('U-999', 'U-1108', None),\n",
       " ('U-999', 'U-1106', None),\n",
       " ('U-999', 'U-1056', None),\n",
       " ('U-999', 'U-1048', None),\n",
       " ('U-999', 'U-1034', None),\n",
       " ('U-999', 'U-1014', None),\n",
       " ('U-999', 'U-1009', None),\n",
       " ('U-999', 'U-1004', None),\n",
       " ('U-999', 'U-1003', None),\n",
       " ('U-999', 'U-1000', None),\n",
       " ('U-999', 'U-1', None),\n",
       " ('U-999', 'U-989', None),\n",
       " ('U-999', 'U-985', None),\n",
       " ('U-999', 'U-982', None),\n",
       " ('U-999', 'U-962', None),\n",
       " ('U-999', 'U-96', None),\n",
       " ('U-999', 'U-958', None),\n",
       " ('U-999', 'U-921', None),\n",
       " ('U-999', 'U-911', None),\n",
       " ('U-999', 'U-900', None),\n",
       " ('U-999', 'U-842', None),\n",
       " ('U-999', 'U-818', None),\n",
       " ('U-999', 'U-800', None),\n",
       " ('U-999', 'U-729', None),\n",
       " ('U-999', 'U-719', None),\n",
       " ('U-999', 'U-685', None),\n",
       " ('U-999', 'U-663', None),\n",
       " ('U-999', 'U-653', None),\n",
       " ('U-999', 'U-647', None),\n",
       " ('U-999', 'U-631', None),\n",
       " ('U-999', 'U-606', None),\n",
       " ('U-999', 'U-568', None),\n",
       " ('U-999', 'U-536', None),\n",
       " ('U-999', 'U-502', None),\n",
       " ('U-999', 'U-490', None),\n",
       " ('U-999', 'U-483', None),\n",
       " ('U-999', 'U-460', None),\n",
       " ('U-999', 'U-457', None),\n",
       " ('U-999', 'U-397', None),\n",
       " ('U-999', 'U-38', None),\n",
       " ('U-999', 'U-368', None),\n",
       " ('U-999', 'U-356', None),\n",
       " ('U-999', 'U-348', None),\n",
       " ('U-999', 'U-34', None),\n",
       " ('U-999', 'U-319', None),\n",
       " ('U-999', 'U-312', None),\n",
       " ('U-999', 'U-308', None),\n",
       " ('U-999', 'U-271', None),\n",
       " ('U-999', 'U-263', None),\n",
       " ('U-999', 'U-228', None),\n",
       " ('U-999', 'U-225', None),\n",
       " ('U-999', 'U-208', None),\n",
       " ('U-999', 'U-178', None),\n",
       " ('U-999', 'U-163', None),\n",
       " ('U-999', 'U-1467', None),\n",
       " ('U-999', 'U-1466', None),\n",
       " ('U-999', 'U-1454', None),\n",
       " ('U-999', 'U-1434', None),\n",
       " ('U-999', 'U-1414', None),\n",
       " ('U-999', 'U-1399', None),\n",
       " ('U-999', 'U-1301', None),\n",
       " ('U-999', 'U-1271', None),\n",
       " ('U-999', 'U-1263', None),\n",
       " ('U-999', 'U-124', None),\n",
       " ('U-999', 'U-1230', None),\n",
       " ('U-999', 'U-120', None),\n",
       " ('U-999', 'U-1187', None),\n",
       " ('U-999', 'U-1186', None),\n",
       " ('U-999', 'U-1179', None),\n",
       " ('U-999', 'U-114', None),\n",
       " ('U-999', 'U-1139', None),\n",
       " ('U-999', 'U-1109', None),\n",
       " ('U-999', 'U-1089', None),\n",
       " ('U-999', 'U-1071', None),\n",
       " ('U-999', 'U-1050', None),\n",
       " ('U-999', 'U-99', None),\n",
       " ('U-999', 'U-948', None),\n",
       " ('U-999', 'U-936', None),\n",
       " ('U-999', 'U-920', None),\n",
       " ('U-999', 'U-91', None),\n",
       " ('U-999', 'U-905', None),\n",
       " ('U-999', 'U-882', None),\n",
       " ('U-999', 'U-810', None),\n",
       " ('U-999', 'U-786', None),\n",
       " ('U-999', 'U-785', None),\n",
       " ('U-999', 'U-776', None),\n",
       " ('U-999', 'U-673', None),\n",
       " ('U-999', 'U-630', None),\n",
       " ('U-999', 'U-618', None),\n",
       " ('U-999', 'U-615', None),\n",
       " ('U-999', 'U-613', None),\n",
       " ('U-999', 'U-569', None),\n",
       " ('U-999', 'U-559', None),\n",
       " ('U-999', 'U-538', None),\n",
       " ('U-999', 'U-482', None),\n",
       " ('U-999', 'U-466', None),\n",
       " ('U-999', 'U-452', None),\n",
       " ('U-999', 'U-45', None),\n",
       " ('U-999', 'U-437', None),\n",
       " ('U-999', 'U-425', None),\n",
       " ('U-999', 'U-295', None),\n",
       " ('U-999', 'U-218', None),\n",
       " ('U-999', 'U-209', None),\n",
       " ('U-999', 'U-201', None),\n",
       " ('U-999', 'U-196', None),\n",
       " ('U-999', 'U-181', None),\n",
       " ('U-999', 'U-177', None),\n",
       " ('U-999', 'U-156', None),\n",
       " ('U-999', 'U-1505', None),\n",
       " ('U-999', 'U-1457', None),\n",
       " ('U-999', 'U-1444', None),\n",
       " ('U-999', 'U-1386', None),\n",
       " ('U-999', 'U-1304', None),\n",
       " ('U-999', 'U-128', None),\n",
       " ('U-999', 'U-1261', None),\n",
       " ('U-999', 'U-1250', None),\n",
       " ('U-999', 'U-1248', None),\n",
       " ('U-999', 'U-1241', None),\n",
       " ('U-999', 'U-1140', None),\n",
       " ('U-999', 'U-1069', None),\n",
       " ('U-999', 'U-1001', None),\n",
       " ('U-999', 'U-971', None),\n",
       " ('U-999', 'U-965', None),\n",
       " ('U-999', 'U-950', None),\n",
       " ('U-999', 'U-947', None),\n",
       " ('U-999', 'U-946', None),\n",
       " ('U-999', 'U-852', None),\n",
       " ('U-999', 'U-706', None),\n",
       " ('U-999', 'U-628', None),\n",
       " ('U-999', 'U-570', None),\n",
       " ('U-999', 'U-537', None),\n",
       " ('U-999', 'U-523', None),\n",
       " ('U-999', 'U-519', None),\n",
       " ('U-999', 'U-488', None),\n",
       " ('U-999', 'U-468', None),\n",
       " ('U-999', 'U-467', None),\n",
       " ('U-999', 'U-445', None),\n",
       " ('U-999', 'U-360', None),\n",
       " ('U-999', 'U-355', None),\n",
       " ('U-999', 'U-281', None),\n",
       " ('U-999', 'U-276', None),\n",
       " ('U-999', 'U-25', None),\n",
       " ('U-999', 'U-248', None),\n",
       " ('U-999', 'U-197', None),\n",
       " ('U-999', 'U-176', None),\n",
       " ('U-999', 'U-1502', None),\n",
       " ('U-999', 'U-1474', None),\n",
       " ('U-999', 'U-1385', None),\n",
       " ('U-999', 'U-1347', None),\n",
       " ('U-999', 'U-1273', None),\n",
       " ('U-999', 'U-1255', None),\n",
       " ('U-999', 'U-1254', None),\n",
       " ('U-999', 'U-1207', None),\n",
       " ('U-999', 'U-1202', None),\n",
       " ('U-999', 'U-1038', None),\n",
       " ('U-999', 'U-988', None),\n",
       " ('U-999', 'U-878', None),\n",
       " ('U-999', 'U-851', None),\n",
       " ('U-999', 'U-815', None),\n",
       " ('U-999', 'U-760', None),\n",
       " ('U-999', 'U-714', None),\n",
       " ('U-999', 'U-677', None),\n",
       " ('U-999', 'U-657', None),\n",
       " ('U-999', 'U-575', None),\n",
       " ('U-999', 'U-566', None),\n",
       " ('U-999', 'U-557', None),\n",
       " ('U-999', 'U-549', None),\n",
       " ('U-999', 'U-495', None),\n",
       " ('U-999', 'U-442', None),\n",
       " ('U-999', 'U-383', None),\n",
       " ('U-999', 'U-374', None),\n",
       " ('U-999', 'U-365', None),\n",
       " ('U-999', 'U-346', None),\n",
       " ('U-999', 'U-303', None),\n",
       " ('U-999', 'U-279', None),\n",
       " ('U-999', 'U-206', None),\n",
       " ('U-999', 'U-199', None),\n",
       " ('U-999', 'U-1498', None),\n",
       " ('U-999', 'U-1475', None),\n",
       " ('U-999', 'U-1460', None),\n",
       " ('U-999', 'U-138', None),\n",
       " ('U-999', 'U-1338', None),\n",
       " ('U-999', 'U-1279', None),\n",
       " ('U-999', 'U-1256', None),\n",
       " ('U-999', 'U-121', None),\n",
       " ('U-999', 'U-1198', None),\n",
       " ('U-999', 'U-1148', None),\n",
       " ('U-999', 'U-1146', None),\n",
       " ('U-999', 'U-1078', None),\n",
       " ('U-999', 'U-1046', None),\n",
       " ('U-999', 'U-945', None),\n",
       " ('U-999', 'U-917', None),\n",
       " ('U-999', 'U-909', None),\n",
       " ('U-999', 'U-908', None),\n",
       " ('U-999', 'U-879', None),\n",
       " ('U-999', 'U-846', None),\n",
       " ('U-999', 'U-769', None),\n",
       " ('U-999', 'U-661', None),\n",
       " ('U-999', 'U-64', None),\n",
       " ('U-999', 'U-505', None),\n",
       " ('U-999', 'U-492', None),\n",
       " ('U-999', 'U-395', None),\n",
       " ('U-999', 'U-349', None),\n",
       " ('U-999', 'U-291', None),\n",
       " ('U-999', 'U-243', None),\n",
       " ('U-999', 'U-190', None),\n",
       " ('U-999', 'U-174', None),\n",
       " ('U-999', 'U-147', None),\n",
       " ('U-999', 'U-1425', None),\n",
       " ('U-999', 'U-1375', None),\n",
       " ('U-999', 'U-1228', None),\n",
       " ('U-999', 'U-112', None),\n",
       " ('U-999', 'U-1085', None),\n",
       " ('U-999', 'U-97', None),\n",
       " ('U-999', 'U-83', None),\n",
       " ('U-999', 'U-797', None),\n",
       " ('U-999', 'U-751', None),\n",
       " ('U-999', 'U-666', None),\n",
       " ('U-999', 'U-658', None),\n",
       " ('U-999', 'U-544', None),\n",
       " ('U-999', 'U-517', None),\n",
       " ('U-999', 'U-451', None),\n",
       " ('U-999', 'U-426', None),\n",
       " ('U-999', 'U-412', None),\n",
       " ('U-999', 'U-335', None),\n",
       " ('U-999', 'U-155', None),\n",
       " ('U-999', 'U-1464', None),\n",
       " ('U-999', 'U-146', None),\n",
       " ('U-999', 'U-1292', None),\n",
       " ('U-999', 'U-1239', None),\n",
       " ('U-999', 'U-1226', None),\n",
       " ('U-999', 'U-1188', None),\n",
       " ('U-999', 'U-1081', None),\n",
       " ('U-999', 'U-1024', None),\n",
       " ('U-999', 'U-1006', None),\n",
       " ('U-957', 'U-972', -14.748974316207562),\n",
       " ('U-957', 'U-960', -7.22354539001983),\n",
       " ('U-957', 'U-942', -8.536610490172876),\n",
       " ('U-957', 'U-939', -10.956498121541603),\n",
       " ('U-957', 'U-933', -3.8594185999191644),\n",
       " ('U-957', 'U-931', -6.524160596618223),\n",
       " ('U-957', 'U-930', -15.247235792778964),\n",
       " ('U-957', 'U-919', -15.34017787773139),\n",
       " ('U-957', 'U-886', -6.524160596618223),\n",
       " ('U-957', 'U-88', -8.536610490172876),\n",
       " ('U-957', 'U-871', -11.975993261368348),\n",
       " ('U-957', 'U-867', -18.343684006754422),\n",
       " ('U-957', 'U-864', -19.41583544307303),\n",
       " ('U-957', 'U-863', -16.11433301471222),\n",
       " ('U-957', 'U-841', -3.8594185999191644),\n",
       " ('U-957', 'U-836', -3.8594185999191644),\n",
       " ('U-957', 'U-813', -14.066347085317323),\n",
       " ('U-957', 'U-768', -6.583989195567986),\n",
       " ('U-957', 'U-759', -13.105526850404681),\n",
       " ('U-957', 'U-750', -6.335063015981152),\n",
       " ('U-957', 'U-749', -6.302574807736109),\n",
       " ('U-957', 'U-744', -9.141437644197474),\n",
       " ('U-957', 'U-716', -13.446116511088674),\n",
       " ('U-957', 'U-7', -6.662742042994483),\n",
       " ('U-957', 'U-669', -13.296076884577813),\n",
       " ('U-957', 'U-633', -10.42502144879116),\n",
       " ('U-957', 'U-584', -6.583989195567986),\n",
       " ('U-957', 'U-572', -3.8594185999191644),\n",
       " ('U-957', 'U-552', -8.536610490172876),\n",
       " ('U-957', 'U-548', -18.247766071458823),\n",
       " ('U-957', 'U-535', -17.41289714741046),\n",
       " ('U-957', 'U-526', -11.698922134729692),\n",
       " ('U-957', 'U-504', -3.8594185999191644),\n",
       " ('U-957', 'U-472', -8.44629368935759),\n",
       " ('U-957', 'U-471', -8.987652787514703),\n",
       " ('U-957', 'U-423', -7.130514766944268),\n",
       " ('U-957', 'U-389', -19.18860369496899),\n",
       " ('U-957', 'U-386', -13.817755780278253),\n",
       " ('U-957', 'U-384', -13.510093250202946),\n",
       " ('U-957', 'U-353', -14.261193861125191),\n",
       " ('U-957', 'U-302', -10.009823346995251),\n",
       " ('U-957', 'U-280', -19.843784063451317),\n",
       " ('U-957', 'U-28', -14.826105071665461),\n",
       " ('U-957', 'U-272', -10.82391742096249),\n",
       " ('U-957', 'U-239', -7.22354539001983),\n",
       " ('U-957', 'U-212', -11.91949330267578),\n",
       " ('U-957', 'U-195', -11.768915394486092),\n",
       " ('U-957', 'U-193', -14.897838953454436),\n",
       " ('U-957', 'U-182', -10.640024377400302),\n",
       " ('U-957', 'U-169', -15.784010149213733),\n",
       " ('U-957', 'U-168', -3.8594185999191644),\n",
       " ('U-957', 'U-161', -8.612438548743),\n",
       " ('U-957', 'U-1483', -14.612472338982093),\n",
       " ('U-957', 'U-1452', -6.583989195567986),\n",
       " ('U-957', 'U-1446', -17.10796852042705),\n",
       " ('U-957', 'U-1438', -18.855390741210698),\n",
       " ('U-957', 'U-1402', -11.632635920313884),\n",
       " ('U-957', 'U-1366', -6.186894807227406),\n",
       " ('U-957', 'U-1348', -17.351646911659994),\n",
       " ('U-957', 'U-1335', -12.925480007021338),\n",
       " ('U-957', 'U-1316', -9.15639227375663),\n",
       " ('U-957', 'U-1315', -3.8594185999191644),\n",
       " ('U-957', 'U-1305', -12.294413862490586),\n",
       " ('U-957', 'U-1295', -17.945668508151943),\n",
       " ('U-957', 'U-1282', -3.8594185999191644),\n",
       " ('U-957', 'U-1268', -8.44629368935759),\n",
       " ('U-957', 'U-1267', -10.083230971402477),\n",
       " ('U-957', 'U-1259', -3.8594185999191644),\n",
       " ('U-957', 'U-1235', -17.457826439578877),\n",
       " ('U-957', 'U-1232', -6.302574807736109),\n",
       " ('U-957', 'U-1219', -11.524993582494794),\n",
       " ('U-957', 'U-1218', -10.341613453825236),\n",
       " ('U-957', 'U-1192', -10.137160311299978),\n",
       " ('U-957', 'U-118', -3.8594185999191644),\n",
       " ('U-957', 'U-1164', -10.73347281210675),\n",
       " ('U-957', 'U-1125', -7.921642117283452),\n",
       " ('U-957', 'U-1111', -9.141437644197474),\n",
       " ('U-957', 'U-1110', -3.8594185999191644),\n",
       " ('U-957', 'U-111', -18.642711482023653),\n",
       " ('U-957', 'U-1106', -3.8594185999191644),\n",
       " ('U-957', 'U-1056', -15.557717438935702),\n",
       " ('U-957', 'U-1048', -11.524993582494794),\n",
       " ('U-957', 'U-1014', -12.172317205653396),\n",
       " ('U-957', 'U-1004', -10.643437295809079),\n",
       " ('U-957', 'U-1', -3.8594185999191644),\n",
       " ('U-957', 'U-987', -13.118458529924872),\n",
       " ('U-957', 'U-958', -14.335334713621231),\n",
       " ('U-957', 'U-920', -9.921930300461693),\n",
       " ('U-957', 'U-849', -7.105034259451778),\n",
       " ('U-957', 'U-842', -19.411801505131056),\n",
       " ('U-957', 'U-812', -10.856654247117044),\n",
       " ('U-957', 'U-778', -4.404206789165897),\n",
       " ('U-957', 'U-762', -4.404206789165897),\n",
       " ('U-957', 'U-738', -8.389438910042395),\n",
       " ('U-957', 'U-657', -15.727730586986251),\n",
       " ('U-957', 'U-65', -4.404206789165897),\n",
       " ('U-957', 'U-647', -12.864498149756521),\n",
       " ('U-957', 'U-592', -4.404206789165897),\n",
       " ('U-957', 'U-585', -15.53673163745269),\n",
       " ('U-957', 'U-583', -5.807955559013305),\n",
       " ('U-957', 'U-491', -4.404206789165897),\n",
       " ('U-957', 'U-482', -13.556138049101893),\n",
       " ('U-957', 'U-451', -16.490624321570568),\n",
       " ('U-957', 'U-429', -4.404206789165897),\n",
       " ('U-957', 'U-374', -17.801276058743802),\n",
       " ('U-957', 'U-313', -6.907345263162967),\n",
       " ('U-957', 'U-312', -19.487627293297464),\n",
       " ('U-957', 'U-296', -7.76291183121669),\n",
       " ('U-957', 'U-201', -7.363723582158952),\n",
       " ('U-957', 'U-188', -7.284465136391203),\n",
       " ('U-957', 'U-1508', -13.809515205929994),\n",
       " ('U-957', 'U-1505', -16.22331322546865),\n",
       " ('U-957', 'U-1499', -6.597230077442416),\n",
       " ('U-957', 'U-147', -15.832416843832448),\n",
       " ('U-957', 'U-1431', -9.57961873392403),\n",
       " ('U-957', 'U-1425', -16.324614977606988),\n",
       " ('U-957', 'U-1424', -9.683469445410863),\n",
       " ('U-957', 'U-1414', -16.76484854831159),\n",
       " ('U-957', 'U-1364', -4.404206789165897),\n",
       " ('U-957', 'U-1130', -4.404206789165897),\n",
       " ('U-957', 'U-1072', -12.09675708437343),\n",
       " ('U-957', 'U-952', -6.964445978821953),\n",
       " ('U-957', 'U-92', -11.74427321800281),\n",
       " ('U-957', 'U-894', -5.987692965212684),\n",
       " ...]"
      ]
     },
     "execution_count": 289,
     "metadata": {},
     "output_type": "execute_result"
    }
   ],
   "source": [
    "[(e[0], e[1], e[2]) for e in S_e.edges(data='s')]"
   ]
  },
  {
   "cell_type": "code",
   "execution_count": null,
   "id": "18096593-0b24-46fe-bee5-5fd487284543",
   "metadata": {},
   "outputs": [],
   "source": []
  }
 ],
 "metadata": {
  "kernelspec": {
   "display_name": "network_env",
   "language": "python",
   "name": "python3"
  },
  "language_info": {
   "codemirror_mode": {
    "name": "ipython",
    "version": 3
   },
   "file_extension": ".py",
   "mimetype": "text/x-python",
   "name": "python",
   "nbconvert_exporter": "python",
   "pygments_lexer": "ipython3",
   "version": "3.10.10"
  },
  "vscode": {
   "interpreter": {
    "hash": "4f2e1c4c78c20c6b23832f083e441f73d78a53ed3faa7de8edc48cc8f1e40643"
   }
  }
 },
 "nbformat": 4,
 "nbformat_minor": 5
}
